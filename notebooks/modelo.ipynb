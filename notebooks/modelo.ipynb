{
 "cells": [
  {
   "cell_type": "code",
   "execution_count": 6,
   "metadata": {},
   "outputs": [],
   "source": [
    "import numpy as np \n",
    "import pandas as pd \n",
    "import optuna as opt\n",
    "from skopt.space import Integer, Real\n",
    "from sklearn.model_selection import train_test_split, KFold, cross_val_score\n",
    "from sklearn.compose import ColumnTransformer\n",
    "from sklearn.pipeline import Pipeline\n",
    "from xgboost import XGBClassifier\n",
    "from lightgbm import LGBMClassifier\n",
    "from catboost import CatBoostClassifier\n",
    "from sklearn.linear_model import LogisticRegression\n",
    "from sklearn.preprocessing import StandardScaler\n",
    "from category_encoders import TargetEncoder\n",
    "from sklearn.model_selection import (\n",
    "    train_test_split, \n",
    "    cross_val_score, \n",
    "    GridSearchCV,\n",
    "    RandomizedSearchCV\n",
    ")\n",
    "from sklearn.metrics import precision_score, confusion_matrix, recall_score, precision_recall_curve, auc, roc_auc_score, f1_score, accuracy_score\n",
    "from sklearn.model_selection import StratifiedKFold\n",
    "from category_encoders import CatBoostEncoder\n",
    "from sklearn.impute import SimpleImputer\n",
    "from sklearn.pipeline import Pipeline\n",
    "import warnings\n",
    "warnings.filterwarnings('ignore')\n",
    "#Bibliotecas para EDA\n",
    "import matplotlib.pyplot as plt\n",
    "import seaborn as sns\n",
    "import plotly.express as px\n",
    "import plotly.graph_objects as go\n",
    "from ipywidgets import interact\n",
    "import ipywidgets as widgets\n",
    "import joblib\n",
    "from sklearn.ensemble import RandomForestRegressor\n",
    "import joblib"
   ]
  },
  {
   "cell_type": "code",
   "execution_count": 8,
   "metadata": {},
   "outputs": [
    {
     "ename": "FileNotFoundError",
     "evalue": "[Errno 2] No such file or directory: 'dataset/train.csv'",
     "output_type": "error",
     "traceback": [
      "\u001b[0;31m---------------------------------------------------------------------------\u001b[0m",
      "\u001b[0;31mFileNotFoundError\u001b[0m                         Traceback (most recent call last)",
      "Cell \u001b[0;32mIn[8], line 1\u001b[0m\n\u001b[0;32m----> 1\u001b[0m df_churn \u001b[38;5;241m=\u001b[39m pd\u001b[38;5;241m.\u001b[39mread_csv(\u001b[38;5;124m'\u001b[39m\u001b[38;5;124mdataset/train.csv\u001b[39m\u001b[38;5;124m'\u001b[39m)\n",
      "File \u001b[0;32m~/anaconda3/lib/python3.11/site-packages/pandas/io/parsers/readers.py:948\u001b[0m, in \u001b[0;36mread_csv\u001b[0;34m(filepath_or_buffer, sep, delimiter, header, names, index_col, usecols, dtype, engine, converters, true_values, false_values, skipinitialspace, skiprows, skipfooter, nrows, na_values, keep_default_na, na_filter, verbose, skip_blank_lines, parse_dates, infer_datetime_format, keep_date_col, date_parser, date_format, dayfirst, cache_dates, iterator, chunksize, compression, thousands, decimal, lineterminator, quotechar, quoting, doublequote, escapechar, comment, encoding, encoding_errors, dialect, on_bad_lines, delim_whitespace, low_memory, memory_map, float_precision, storage_options, dtype_backend)\u001b[0m\n\u001b[1;32m    935\u001b[0m kwds_defaults \u001b[38;5;241m=\u001b[39m _refine_defaults_read(\n\u001b[1;32m    936\u001b[0m     dialect,\n\u001b[1;32m    937\u001b[0m     delimiter,\n\u001b[0;32m   (...)\u001b[0m\n\u001b[1;32m    944\u001b[0m     dtype_backend\u001b[38;5;241m=\u001b[39mdtype_backend,\n\u001b[1;32m    945\u001b[0m )\n\u001b[1;32m    946\u001b[0m kwds\u001b[38;5;241m.\u001b[39mupdate(kwds_defaults)\n\u001b[0;32m--> 948\u001b[0m \u001b[38;5;28;01mreturn\u001b[39;00m _read(filepath_or_buffer, kwds)\n",
      "File \u001b[0;32m~/anaconda3/lib/python3.11/site-packages/pandas/io/parsers/readers.py:611\u001b[0m, in \u001b[0;36m_read\u001b[0;34m(filepath_or_buffer, kwds)\u001b[0m\n\u001b[1;32m    608\u001b[0m _validate_names(kwds\u001b[38;5;241m.\u001b[39mget(\u001b[38;5;124m\"\u001b[39m\u001b[38;5;124mnames\u001b[39m\u001b[38;5;124m\"\u001b[39m, \u001b[38;5;28;01mNone\u001b[39;00m))\n\u001b[1;32m    610\u001b[0m \u001b[38;5;66;03m# Create the parser.\u001b[39;00m\n\u001b[0;32m--> 611\u001b[0m parser \u001b[38;5;241m=\u001b[39m TextFileReader(filepath_or_buffer, \u001b[38;5;241m*\u001b[39m\u001b[38;5;241m*\u001b[39mkwds)\n\u001b[1;32m    613\u001b[0m \u001b[38;5;28;01mif\u001b[39;00m chunksize \u001b[38;5;129;01mor\u001b[39;00m iterator:\n\u001b[1;32m    614\u001b[0m     \u001b[38;5;28;01mreturn\u001b[39;00m parser\n",
      "File \u001b[0;32m~/anaconda3/lib/python3.11/site-packages/pandas/io/parsers/readers.py:1448\u001b[0m, in \u001b[0;36mTextFileReader.__init__\u001b[0;34m(self, f, engine, **kwds)\u001b[0m\n\u001b[1;32m   1445\u001b[0m     \u001b[38;5;28mself\u001b[39m\u001b[38;5;241m.\u001b[39moptions[\u001b[38;5;124m\"\u001b[39m\u001b[38;5;124mhas_index_names\u001b[39m\u001b[38;5;124m\"\u001b[39m] \u001b[38;5;241m=\u001b[39m kwds[\u001b[38;5;124m\"\u001b[39m\u001b[38;5;124mhas_index_names\u001b[39m\u001b[38;5;124m\"\u001b[39m]\n\u001b[1;32m   1447\u001b[0m \u001b[38;5;28mself\u001b[39m\u001b[38;5;241m.\u001b[39mhandles: IOHandles \u001b[38;5;241m|\u001b[39m \u001b[38;5;28;01mNone\u001b[39;00m \u001b[38;5;241m=\u001b[39m \u001b[38;5;28;01mNone\u001b[39;00m\n\u001b[0;32m-> 1448\u001b[0m \u001b[38;5;28mself\u001b[39m\u001b[38;5;241m.\u001b[39m_engine \u001b[38;5;241m=\u001b[39m \u001b[38;5;28mself\u001b[39m\u001b[38;5;241m.\u001b[39m_make_engine(f, \u001b[38;5;28mself\u001b[39m\u001b[38;5;241m.\u001b[39mengine)\n",
      "File \u001b[0;32m~/anaconda3/lib/python3.11/site-packages/pandas/io/parsers/readers.py:1705\u001b[0m, in \u001b[0;36mTextFileReader._make_engine\u001b[0;34m(self, f, engine)\u001b[0m\n\u001b[1;32m   1703\u001b[0m     \u001b[38;5;28;01mif\u001b[39;00m \u001b[38;5;124m\"\u001b[39m\u001b[38;5;124mb\u001b[39m\u001b[38;5;124m\"\u001b[39m \u001b[38;5;129;01mnot\u001b[39;00m \u001b[38;5;129;01min\u001b[39;00m mode:\n\u001b[1;32m   1704\u001b[0m         mode \u001b[38;5;241m+\u001b[39m\u001b[38;5;241m=\u001b[39m \u001b[38;5;124m\"\u001b[39m\u001b[38;5;124mb\u001b[39m\u001b[38;5;124m\"\u001b[39m\n\u001b[0;32m-> 1705\u001b[0m \u001b[38;5;28mself\u001b[39m\u001b[38;5;241m.\u001b[39mhandles \u001b[38;5;241m=\u001b[39m get_handle(\n\u001b[1;32m   1706\u001b[0m     f,\n\u001b[1;32m   1707\u001b[0m     mode,\n\u001b[1;32m   1708\u001b[0m     encoding\u001b[38;5;241m=\u001b[39m\u001b[38;5;28mself\u001b[39m\u001b[38;5;241m.\u001b[39moptions\u001b[38;5;241m.\u001b[39mget(\u001b[38;5;124m\"\u001b[39m\u001b[38;5;124mencoding\u001b[39m\u001b[38;5;124m\"\u001b[39m, \u001b[38;5;28;01mNone\u001b[39;00m),\n\u001b[1;32m   1709\u001b[0m     compression\u001b[38;5;241m=\u001b[39m\u001b[38;5;28mself\u001b[39m\u001b[38;5;241m.\u001b[39moptions\u001b[38;5;241m.\u001b[39mget(\u001b[38;5;124m\"\u001b[39m\u001b[38;5;124mcompression\u001b[39m\u001b[38;5;124m\"\u001b[39m, \u001b[38;5;28;01mNone\u001b[39;00m),\n\u001b[1;32m   1710\u001b[0m     memory_map\u001b[38;5;241m=\u001b[39m\u001b[38;5;28mself\u001b[39m\u001b[38;5;241m.\u001b[39moptions\u001b[38;5;241m.\u001b[39mget(\u001b[38;5;124m\"\u001b[39m\u001b[38;5;124mmemory_map\u001b[39m\u001b[38;5;124m\"\u001b[39m, \u001b[38;5;28;01mFalse\u001b[39;00m),\n\u001b[1;32m   1711\u001b[0m     is_text\u001b[38;5;241m=\u001b[39mis_text,\n\u001b[1;32m   1712\u001b[0m     errors\u001b[38;5;241m=\u001b[39m\u001b[38;5;28mself\u001b[39m\u001b[38;5;241m.\u001b[39moptions\u001b[38;5;241m.\u001b[39mget(\u001b[38;5;124m\"\u001b[39m\u001b[38;5;124mencoding_errors\u001b[39m\u001b[38;5;124m\"\u001b[39m, \u001b[38;5;124m\"\u001b[39m\u001b[38;5;124mstrict\u001b[39m\u001b[38;5;124m\"\u001b[39m),\n\u001b[1;32m   1713\u001b[0m     storage_options\u001b[38;5;241m=\u001b[39m\u001b[38;5;28mself\u001b[39m\u001b[38;5;241m.\u001b[39moptions\u001b[38;5;241m.\u001b[39mget(\u001b[38;5;124m\"\u001b[39m\u001b[38;5;124mstorage_options\u001b[39m\u001b[38;5;124m\"\u001b[39m, \u001b[38;5;28;01mNone\u001b[39;00m),\n\u001b[1;32m   1714\u001b[0m )\n\u001b[1;32m   1715\u001b[0m \u001b[38;5;28;01massert\u001b[39;00m \u001b[38;5;28mself\u001b[39m\u001b[38;5;241m.\u001b[39mhandles \u001b[38;5;129;01mis\u001b[39;00m \u001b[38;5;129;01mnot\u001b[39;00m \u001b[38;5;28;01mNone\u001b[39;00m\n\u001b[1;32m   1716\u001b[0m f \u001b[38;5;241m=\u001b[39m \u001b[38;5;28mself\u001b[39m\u001b[38;5;241m.\u001b[39mhandles\u001b[38;5;241m.\u001b[39mhandle\n",
      "File \u001b[0;32m~/anaconda3/lib/python3.11/site-packages/pandas/io/common.py:863\u001b[0m, in \u001b[0;36mget_handle\u001b[0;34m(path_or_buf, mode, encoding, compression, memory_map, is_text, errors, storage_options)\u001b[0m\n\u001b[1;32m    858\u001b[0m \u001b[38;5;28;01melif\u001b[39;00m \u001b[38;5;28misinstance\u001b[39m(handle, \u001b[38;5;28mstr\u001b[39m):\n\u001b[1;32m    859\u001b[0m     \u001b[38;5;66;03m# Check whether the filename is to be opened in binary mode.\u001b[39;00m\n\u001b[1;32m    860\u001b[0m     \u001b[38;5;66;03m# Binary mode does not support 'encoding' and 'newline'.\u001b[39;00m\n\u001b[1;32m    861\u001b[0m     \u001b[38;5;28;01mif\u001b[39;00m ioargs\u001b[38;5;241m.\u001b[39mencoding \u001b[38;5;129;01mand\u001b[39;00m \u001b[38;5;124m\"\u001b[39m\u001b[38;5;124mb\u001b[39m\u001b[38;5;124m\"\u001b[39m \u001b[38;5;129;01mnot\u001b[39;00m \u001b[38;5;129;01min\u001b[39;00m ioargs\u001b[38;5;241m.\u001b[39mmode:\n\u001b[1;32m    862\u001b[0m         \u001b[38;5;66;03m# Encoding\u001b[39;00m\n\u001b[0;32m--> 863\u001b[0m         handle \u001b[38;5;241m=\u001b[39m \u001b[38;5;28mopen\u001b[39m(\n\u001b[1;32m    864\u001b[0m             handle,\n\u001b[1;32m    865\u001b[0m             ioargs\u001b[38;5;241m.\u001b[39mmode,\n\u001b[1;32m    866\u001b[0m             encoding\u001b[38;5;241m=\u001b[39mioargs\u001b[38;5;241m.\u001b[39mencoding,\n\u001b[1;32m    867\u001b[0m             errors\u001b[38;5;241m=\u001b[39merrors,\n\u001b[1;32m    868\u001b[0m             newline\u001b[38;5;241m=\u001b[39m\u001b[38;5;124m\"\u001b[39m\u001b[38;5;124m\"\u001b[39m,\n\u001b[1;32m    869\u001b[0m         )\n\u001b[1;32m    870\u001b[0m     \u001b[38;5;28;01melse\u001b[39;00m:\n\u001b[1;32m    871\u001b[0m         \u001b[38;5;66;03m# Binary mode\u001b[39;00m\n\u001b[1;32m    872\u001b[0m         handle \u001b[38;5;241m=\u001b[39m \u001b[38;5;28mopen\u001b[39m(handle, ioargs\u001b[38;5;241m.\u001b[39mmode)\n",
      "\u001b[0;31mFileNotFoundError\u001b[0m: [Errno 2] No such file or directory: 'dataset/train.csv'"
     ]
    }
   ],
   "source": [
    "df_churn = pd.read_csv('dataset/train.csv')"
   ]
  },
  {
   "cell_type": "markdown",
   "metadata": {},
   "source": [
    "## Modelagem    "
   ]
  },
  {
   "cell_type": "code",
   "execution_count": 5,
   "metadata": {},
   "outputs": [
    {
     "ename": "NameError",
     "evalue": "name 'df_churn' is not defined",
     "output_type": "error",
     "traceback": [
      "\u001b[0;31m---------------------------------------------------------------------------\u001b[0m",
      "\u001b[0;31mNameError\u001b[0m                                 Traceback (most recent call last)",
      "Cell \u001b[0;32mIn[5], line 1\u001b[0m\n\u001b[0;32m----> 1\u001b[0m df_churn\u001b[38;5;241m.\u001b[39mhead()\n",
      "\u001b[0;31mNameError\u001b[0m: name 'df_churn' is not defined"
     ]
    }
   ],
   "source": [
    "df_churn.head()"
   ]
  },
  {
   "cell_type": "code",
   "execution_count": 15,
   "metadata": {},
   "outputs": [
    {
     "data": {
      "text/html": [
       "<div>\n",
       "<style scoped>\n",
       "    .dataframe tbody tr th:only-of-type {\n",
       "        vertical-align: middle;\n",
       "    }\n",
       "\n",
       "    .dataframe tbody tr th {\n",
       "        vertical-align: top;\n",
       "    }\n",
       "\n",
       "    .dataframe thead th {\n",
       "        text-align: right;\n",
       "    }\n",
       "</style>\n",
       "<table border=\"1\" class=\"dataframe\">\n",
       "  <thead>\n",
       "    <tr style=\"text-align: right;\">\n",
       "      <th></th>\n",
       "      <th>id</th>\n",
       "      <th>CustomerId</th>\n",
       "      <th>CreditScore</th>\n",
       "      <th>Age</th>\n",
       "      <th>Tenure</th>\n",
       "      <th>Balance</th>\n",
       "      <th>NumOfProducts</th>\n",
       "      <th>HasCrCard</th>\n",
       "      <th>IsActiveMember</th>\n",
       "      <th>EstimatedSalary</th>\n",
       "      <th>Exited</th>\n",
       "    </tr>\n",
       "  </thead>\n",
       "  <tbody>\n",
       "    <tr>\n",
       "      <th>count</th>\n",
       "      <td>165034.0000</td>\n",
       "      <td>1.650340e+05</td>\n",
       "      <td>165034.000000</td>\n",
       "      <td>165034.000000</td>\n",
       "      <td>165034.000000</td>\n",
       "      <td>165034.000000</td>\n",
       "      <td>165034.000000</td>\n",
       "      <td>165034.000000</td>\n",
       "      <td>165034.000000</td>\n",
       "      <td>165034.000000</td>\n",
       "      <td>165034.000000</td>\n",
       "    </tr>\n",
       "    <tr>\n",
       "      <th>mean</th>\n",
       "      <td>82516.5000</td>\n",
       "      <td>1.569201e+07</td>\n",
       "      <td>656.454373</td>\n",
       "      <td>38.125888</td>\n",
       "      <td>5.020353</td>\n",
       "      <td>55478.086689</td>\n",
       "      <td>1.554455</td>\n",
       "      <td>0.753954</td>\n",
       "      <td>0.497770</td>\n",
       "      <td>112574.822734</td>\n",
       "      <td>0.211599</td>\n",
       "    </tr>\n",
       "    <tr>\n",
       "      <th>std</th>\n",
       "      <td>47641.3565</td>\n",
       "      <td>7.139782e+04</td>\n",
       "      <td>80.103340</td>\n",
       "      <td>8.867205</td>\n",
       "      <td>2.806159</td>\n",
       "      <td>62817.663278</td>\n",
       "      <td>0.547154</td>\n",
       "      <td>0.430707</td>\n",
       "      <td>0.499997</td>\n",
       "      <td>50292.865585</td>\n",
       "      <td>0.408443</td>\n",
       "    </tr>\n",
       "    <tr>\n",
       "      <th>min</th>\n",
       "      <td>0.0000</td>\n",
       "      <td>1.556570e+07</td>\n",
       "      <td>350.000000</td>\n",
       "      <td>18.000000</td>\n",
       "      <td>0.000000</td>\n",
       "      <td>0.000000</td>\n",
       "      <td>1.000000</td>\n",
       "      <td>0.000000</td>\n",
       "      <td>0.000000</td>\n",
       "      <td>11.580000</td>\n",
       "      <td>0.000000</td>\n",
       "    </tr>\n",
       "    <tr>\n",
       "      <th>25%</th>\n",
       "      <td>41258.2500</td>\n",
       "      <td>1.563314e+07</td>\n",
       "      <td>597.000000</td>\n",
       "      <td>32.000000</td>\n",
       "      <td>3.000000</td>\n",
       "      <td>0.000000</td>\n",
       "      <td>1.000000</td>\n",
       "      <td>1.000000</td>\n",
       "      <td>0.000000</td>\n",
       "      <td>74637.570000</td>\n",
       "      <td>0.000000</td>\n",
       "    </tr>\n",
       "    <tr>\n",
       "      <th>50%</th>\n",
       "      <td>82516.5000</td>\n",
       "      <td>1.569017e+07</td>\n",
       "      <td>659.000000</td>\n",
       "      <td>37.000000</td>\n",
       "      <td>5.000000</td>\n",
       "      <td>0.000000</td>\n",
       "      <td>2.000000</td>\n",
       "      <td>1.000000</td>\n",
       "      <td>0.000000</td>\n",
       "      <td>117948.000000</td>\n",
       "      <td>0.000000</td>\n",
       "    </tr>\n",
       "    <tr>\n",
       "      <th>75%</th>\n",
       "      <td>123774.7500</td>\n",
       "      <td>1.575682e+07</td>\n",
       "      <td>710.000000</td>\n",
       "      <td>42.000000</td>\n",
       "      <td>7.000000</td>\n",
       "      <td>119939.517500</td>\n",
       "      <td>2.000000</td>\n",
       "      <td>1.000000</td>\n",
       "      <td>1.000000</td>\n",
       "      <td>155152.467500</td>\n",
       "      <td>0.000000</td>\n",
       "    </tr>\n",
       "    <tr>\n",
       "      <th>max</th>\n",
       "      <td>165033.0000</td>\n",
       "      <td>1.581569e+07</td>\n",
       "      <td>850.000000</td>\n",
       "      <td>92.000000</td>\n",
       "      <td>10.000000</td>\n",
       "      <td>250898.090000</td>\n",
       "      <td>4.000000</td>\n",
       "      <td>1.000000</td>\n",
       "      <td>1.000000</td>\n",
       "      <td>199992.480000</td>\n",
       "      <td>1.000000</td>\n",
       "    </tr>\n",
       "  </tbody>\n",
       "</table>\n",
       "</div>"
      ],
      "text/plain": [
       "                id    CustomerId    CreditScore            Age         Tenure  \\\n",
       "count  165034.0000  1.650340e+05  165034.000000  165034.000000  165034.000000   \n",
       "mean    82516.5000  1.569201e+07     656.454373      38.125888       5.020353   \n",
       "std     47641.3565  7.139782e+04      80.103340       8.867205       2.806159   \n",
       "min         0.0000  1.556570e+07     350.000000      18.000000       0.000000   \n",
       "25%     41258.2500  1.563314e+07     597.000000      32.000000       3.000000   \n",
       "50%     82516.5000  1.569017e+07     659.000000      37.000000       5.000000   \n",
       "75%    123774.7500  1.575682e+07     710.000000      42.000000       7.000000   \n",
       "max    165033.0000  1.581569e+07     850.000000      92.000000      10.000000   \n",
       "\n",
       "             Balance  NumOfProducts      HasCrCard  IsActiveMember  \\\n",
       "count  165034.000000  165034.000000  165034.000000   165034.000000   \n",
       "mean    55478.086689       1.554455       0.753954        0.497770   \n",
       "std     62817.663278       0.547154       0.430707        0.499997   \n",
       "min         0.000000       1.000000       0.000000        0.000000   \n",
       "25%         0.000000       1.000000       1.000000        0.000000   \n",
       "50%         0.000000       2.000000       1.000000        0.000000   \n",
       "75%    119939.517500       2.000000       1.000000        1.000000   \n",
       "max    250898.090000       4.000000       1.000000        1.000000   \n",
       "\n",
       "       EstimatedSalary         Exited  \n",
       "count    165034.000000  165034.000000  \n",
       "mean     112574.822734       0.211599  \n",
       "std       50292.865585       0.408443  \n",
       "min          11.580000       0.000000  \n",
       "25%       74637.570000       0.000000  \n",
       "50%      117948.000000       0.000000  \n",
       "75%      155152.467500       0.000000  \n",
       "max      199992.480000       1.000000  "
      ]
     },
     "execution_count": 15,
     "metadata": {},
     "output_type": "execute_result"
    }
   ],
   "source": [
    "df_churn.describe()"
   ]
  },
  {
   "cell_type": "code",
   "execution_count": 16,
   "metadata": {},
   "outputs": [
    {
     "data": {
      "text/plain": [
       "Exited\n",
       "0    0.788401\n",
       "1    0.211599\n",
       "Name: proportion, dtype: float64"
      ]
     },
     "execution_count": 16,
     "metadata": {},
     "output_type": "execute_result"
    }
   ],
   "source": [
    "df_churn.Exited.value_counts(1)"
   ]
  },
  {
   "cell_type": "code",
   "execution_count": 29,
   "metadata": {},
   "outputs": [],
   "source": [
    "X = df_churn.drop(['id', 'Exited','CustomerId','Surname'], axis=1)\n",
    "y = df_churn['Exited']"
   ]
  },
  {
   "cell_type": "markdown",
   "metadata": {},
   "source": [
    "Os dados estão desbalanceados, sendo necessario utilizar alguma estrategia para lidar com esse problema"
   ]
  },
  {
   "cell_type": "code",
   "execution_count": 18,
   "metadata": {},
   "outputs": [
    {
     "data": {
      "text/plain": [
       "3.72592422897397"
      ]
     },
     "execution_count": 18,
     "metadata": {},
     "output_type": "execute_result"
    }
   ],
   "source": [
    "peso = df_churn.Exited.value_counts(1)[0]/df_churn.Exited.value_counts(1)[1]\n",
    "peso    "
   ]
  },
  {
   "cell_type": "code",
   "execution_count": 31,
   "metadata": {},
   "outputs": [
    {
     "data": {
      "text/html": [
       "<div>\n",
       "<style scoped>\n",
       "    .dataframe tbody tr th:only-of-type {\n",
       "        vertical-align: middle;\n",
       "    }\n",
       "\n",
       "    .dataframe tbody tr th {\n",
       "        vertical-align: top;\n",
       "    }\n",
       "\n",
       "    .dataframe thead th {\n",
       "        text-align: right;\n",
       "    }\n",
       "</style>\n",
       "<table border=\"1\" class=\"dataframe\">\n",
       "  <thead>\n",
       "    <tr style=\"text-align: right;\">\n",
       "      <th></th>\n",
       "      <th>CreditScore</th>\n",
       "      <th>Geography</th>\n",
       "      <th>Gender</th>\n",
       "      <th>Age</th>\n",
       "      <th>Tenure</th>\n",
       "      <th>Balance</th>\n",
       "      <th>NumOfProducts</th>\n",
       "      <th>HasCrCard</th>\n",
       "      <th>IsActiveMember</th>\n",
       "      <th>EstimatedSalary</th>\n",
       "    </tr>\n",
       "  </thead>\n",
       "  <tbody>\n",
       "    <tr>\n",
       "      <th>0</th>\n",
       "      <td>668</td>\n",
       "      <td>France</td>\n",
       "      <td>Male</td>\n",
       "      <td>33.0</td>\n",
       "      <td>3</td>\n",
       "      <td>0.00</td>\n",
       "      <td>2</td>\n",
       "      <td>1.0</td>\n",
       "      <td>0.0</td>\n",
       "      <td>181449.97</td>\n",
       "    </tr>\n",
       "    <tr>\n",
       "      <th>1</th>\n",
       "      <td>627</td>\n",
       "      <td>France</td>\n",
       "      <td>Male</td>\n",
       "      <td>33.0</td>\n",
       "      <td>1</td>\n",
       "      <td>0.00</td>\n",
       "      <td>2</td>\n",
       "      <td>1.0</td>\n",
       "      <td>1.0</td>\n",
       "      <td>49503.50</td>\n",
       "    </tr>\n",
       "    <tr>\n",
       "      <th>2</th>\n",
       "      <td>678</td>\n",
       "      <td>France</td>\n",
       "      <td>Male</td>\n",
       "      <td>40.0</td>\n",
       "      <td>10</td>\n",
       "      <td>0.00</td>\n",
       "      <td>2</td>\n",
       "      <td>1.0</td>\n",
       "      <td>0.0</td>\n",
       "      <td>184866.69</td>\n",
       "    </tr>\n",
       "    <tr>\n",
       "      <th>3</th>\n",
       "      <td>581</td>\n",
       "      <td>France</td>\n",
       "      <td>Male</td>\n",
       "      <td>34.0</td>\n",
       "      <td>2</td>\n",
       "      <td>148882.54</td>\n",
       "      <td>1</td>\n",
       "      <td>1.0</td>\n",
       "      <td>1.0</td>\n",
       "      <td>84560.88</td>\n",
       "    </tr>\n",
       "    <tr>\n",
       "      <th>4</th>\n",
       "      <td>716</td>\n",
       "      <td>Spain</td>\n",
       "      <td>Male</td>\n",
       "      <td>33.0</td>\n",
       "      <td>5</td>\n",
       "      <td>0.00</td>\n",
       "      <td>2</td>\n",
       "      <td>1.0</td>\n",
       "      <td>1.0</td>\n",
       "      <td>15068.83</td>\n",
       "    </tr>\n",
       "  </tbody>\n",
       "</table>\n",
       "</div>"
      ],
      "text/plain": [
       "   CreditScore Geography Gender   Age  Tenure    Balance  NumOfProducts  \\\n",
       "0          668    France   Male  33.0       3       0.00              2   \n",
       "1          627    France   Male  33.0       1       0.00              2   \n",
       "2          678    France   Male  40.0      10       0.00              2   \n",
       "3          581    France   Male  34.0       2  148882.54              1   \n",
       "4          716     Spain   Male  33.0       5       0.00              2   \n",
       "\n",
       "   HasCrCard  IsActiveMember  EstimatedSalary  \n",
       "0        1.0             0.0        181449.97  \n",
       "1        1.0             1.0         49503.50  \n",
       "2        1.0             0.0        184866.69  \n",
       "3        1.0             1.0         84560.88  \n",
       "4        1.0             1.0         15068.83  "
      ]
     },
     "execution_count": 31,
     "metadata": {},
     "output_type": "execute_result"
    }
   ],
   "source": [
    "X.head()"
   ]
  },
  {
   "cell_type": "code",
   "execution_count": 19,
   "metadata": {},
   "outputs": [],
   "source": [
    "xgb = XGBClassifier(n_estimators = 1000, max_depth = 8, learning_rate = 1e-3, n_jobs = -1, random_state = 0, scale_pos_weight = peso, eval_metrics = True)\n",
    "lgb = LGBMClassifier(n_estimators = 1000, max_depth = 8, learning_rate = 1e-3, n_jobs = -1, random_state = 0, is_unbalance = True, verbose=-1)\n",
    "catbost = CatBoostClassifier(n_estimators=1000, max_depth=8, learning_rate=1e-3, scale_pos_weight=peso, random_state=0, verbose=0)\n",
    "lgr = LogisticRegression(random_state=0, class_weight='balanced', n_jobs=-1, solver='lbfgs', max_iter=1000)"
   ]
  },
  {
   "cell_type": "code",
   "execution_count": 20,
   "metadata": {},
   "outputs": [
    {
     "data": {
      "text/plain": [
       "\"k = 5\\nthershold = 0.5\\nfolds = StratifiedKFold(n_splits=k, shuffle=True, random_state=42)\\n\\nprecisoes = list()\\nrevocacos = list()\\nacuracia = list()\\nmedida_f1 = list()\\nprecision_recall_auc = list()\\nrocs_auc = list()\\n\\nfor fold, (train_index, test_index) in enumerate(folds.split(X, y)):\\n    print('=-'*7 + f' Folds: {fold+1} ' + '=-'*7)\\n\\n    X_train_interno, y_train_interno = X.iloc[train_index, :], y.iloc[train_index]\\n    X_test_interno, y_test_interno = X.iloc[test_index, :], y.iloc[test_index]\\n\\n    encoder = CatBoostEncoder()\\n\\n    cat_imputer = SimpleImputer(strategy='most_frequent')\\n    num_imputer = SimpleImputer(strategy='median')\\n\\n    cat_pipeline = Pipeline([('encoder', encoder), ('imputer', cat_imputer)])\\n    num_pipeline = Pipeline([('imputer', num_imputer)])\\n\\n    cat_cols = X_train_interno.select_dtypes(include=['object']).columns\\n    num_cols = X_train_interno.select_dtypes(exclude=['object']).columns\\n\\n    X_train_interno[cat_cols] = cat_pipeline.fit_transform(X_train_interno[cat_cols], y_train_interno)\\n    X_train_interno[num_cols] = num_pipeline.fit_transform(X_train_interno[num_cols])\\n\\n    X_test_interno[cat_cols] = cat_pipeline.transform(X_test_interno[cat_cols])\\n    X_test_interno[num_cols] = num_pipeline.transform(X_test_interno[num_cols])\\n\\n    xgb.fit(X_train_interno, y_train_interno)\\n\\n    y_pred_proba = xgb.predict_proba(X_test_interno)[:, 1]\\n    y_pred = np.where(y_pred_proba > thershold, 1, 0)  # Corrigido aqui\\n\\n    precisao, revocacao, limiares = precision_recall_curve(y_test_interno, y_pred)\\n\\n    precisao_revocacao_auc = auc(revocacao, precisao)\\n    roc_auc = roc_auc_score(y_test_interno, y_pred_proba)\\n    acuracia_score = accuracy_score(y_test_interno, y_pred)\\n    precisao_score = precision_score(y_test_interno, y_pred)\\n    revocacao_score = recall_score(y_test_interno, y_pred)\\n    f1score = f1_score(y_test_interno, y_pred)\\n\\n    precisoes.append(precisao_score)\\n    revocacos.append(revocacao_score)  # Corrigido aqui\\n    acuracia.append(acuracia_score)\\n    precision_recall_auc.append(precisao_revocacao_auc)\\n    medida_f1.append(f1score)\\n    rocs_auc.append(roc_auc)\\n\\n    print(f'Precisão: {precisao_score:.3f}')\\n    print(f'Revocação: {revocacao_score:.3f}')\\n    print(f'Acuracia: {acuracia_score:.3f}')\\n    print(f'Medida f1: {f1score:.3f}')\\n    print(f'Precisiona recall auc: {precisao_revocacao_auc:.3f}')\\n    print(f'ROC AUC: {roc_auc:.3f}')\\n\""
      ]
     },
     "execution_count": 20,
     "metadata": {},
     "output_type": "execute_result"
    }
   ],
   "source": [
    "'''k = 5\n",
    "thershold = 0.5\n",
    "folds = StratifiedKFold(n_splits=k, shuffle=True, random_state=42)\n",
    "\n",
    "precisoes = list()\n",
    "revocacos = list()\n",
    "acuracia = list()\n",
    "medida_f1 = list()\n",
    "precision_recall_auc = list()\n",
    "rocs_auc = list()\n",
    "\n",
    "for fold, (train_index, test_index) in enumerate(folds.split(X, y)):\n",
    "    print('=-'*7 + f' Folds: {fold+1} ' + '=-'*7)\n",
    "\n",
    "    X_train_interno, y_train_interno = X.iloc[train_index, :], y.iloc[train_index]\n",
    "    X_test_interno, y_test_interno = X.iloc[test_index, :], y.iloc[test_index]\n",
    "\n",
    "    encoder = CatBoostEncoder()\n",
    "\n",
    "    cat_imputer = SimpleImputer(strategy='most_frequent')\n",
    "    num_imputer = SimpleImputer(strategy='median')\n",
    "\n",
    "    cat_pipeline = Pipeline([('encoder', encoder), ('imputer', cat_imputer)])\n",
    "    num_pipeline = Pipeline([('imputer', num_imputer)])\n",
    "\n",
    "    cat_cols = X_train_interno.select_dtypes(include=['object']).columns\n",
    "    num_cols = X_train_interno.select_dtypes(exclude=['object']).columns\n",
    "\n",
    "    X_train_interno[cat_cols] = cat_pipeline.fit_transform(X_train_interno[cat_cols], y_train_interno)\n",
    "    X_train_interno[num_cols] = num_pipeline.fit_transform(X_train_interno[num_cols])\n",
    "\n",
    "    X_test_interno[cat_cols] = cat_pipeline.transform(X_test_interno[cat_cols])\n",
    "    X_test_interno[num_cols] = num_pipeline.transform(X_test_interno[num_cols])\n",
    "\n",
    "    xgb.fit(X_train_interno, y_train_interno)\n",
    "\n",
    "    y_pred_proba = xgb.predict_proba(X_test_interno)[:, 1]\n",
    "    y_pred = np.where(y_pred_proba > thershold, 1, 0)  # Corrigido aqui\n",
    "\n",
    "    precisao, revocacao, limiares = precision_recall_curve(y_test_interno, y_pred)\n",
    "\n",
    "    precisao_revocacao_auc = auc(revocacao, precisao)\n",
    "    roc_auc = roc_auc_score(y_test_interno, y_pred_proba)\n",
    "    acuracia_score = accuracy_score(y_test_interno, y_pred)\n",
    "    precisao_score = precision_score(y_test_interno, y_pred)\n",
    "    revocacao_score = recall_score(y_test_interno, y_pred)\n",
    "    f1score = f1_score(y_test_interno, y_pred)\n",
    "\n",
    "    precisoes.append(precisao_score)\n",
    "    revocacos.append(revocacao_score)  # Corrigido aqui\n",
    "    acuracia.append(acuracia_score)\n",
    "    precision_recall_auc.append(precisao_revocacao_auc)\n",
    "    medida_f1.append(f1score)\n",
    "    rocs_auc.append(roc_auc)\n",
    "\n",
    "    print(f'Precisão: {precisao_score:.3f}')\n",
    "    print(f'Revocação: {revocacao_score:.3f}')\n",
    "    print(f'Acuracia: {acuracia_score:.3f}')\n",
    "    print(f'Medida f1: {f1score:.3f}')\n",
    "    print(f'Precisiona recall auc: {precisao_revocacao_auc:.3f}')\n",
    "    print(f'ROC AUC: {roc_auc:.3f}')\n",
    "'''"
   ]
  },
  {
   "cell_type": "code",
   "execution_count": 21,
   "metadata": {},
   "outputs": [
    {
     "ename": "NameError",
     "evalue": "name 'precisoes' is not defined",
     "output_type": "error",
     "traceback": [
      "\u001b[0;31m---------------------------------------------------------------------------\u001b[0m",
      "\u001b[0;31mNameError\u001b[0m                                 Traceback (most recent call last)",
      "Cell \u001b[0;32mIn[21], line 1\u001b[0m\n\u001b[0;32m----> 1\u001b[0m precisoes \u001b[38;5;241m=\u001b[39m np\u001b[38;5;241m.\u001b[39marray(precisoes)\n\u001b[1;32m      2\u001b[0m revocacos \u001b[38;5;241m=\u001b[39m np\u001b[38;5;241m.\u001b[39marray(revocacos)\n\u001b[1;32m      3\u001b[0m acuracia \u001b[38;5;241m=\u001b[39m np\u001b[38;5;241m.\u001b[39marray(acuracia)\n",
      "\u001b[0;31mNameError\u001b[0m: name 'precisoes' is not defined"
     ]
    }
   ],
   "source": [
    "'''precisoes = np.array(precisoes)\n",
    "revocacos = np.array(revocacos)\n",
    "acuracia = np.array(acuracia)\n",
    "medida_f1 = np.array(medida_f1)\n",
    "precision_recall_auc = np.array(precision_recall_auc)\n",
    "rocs_auc = np.array(rocs_auc)\n",
    "\n",
    "media_previsoes = np.mean(precisoes)\n",
    "media_revocacoes = np.mean(revocacos)\n",
    "media_acuracia = np.mean(acuracia)\n",
    "media_f1 = np.mean(precisao_revocacao_auc)\n",
    "media_rocs_auc = np.mean(rocs_auc)\n",
    "\n",
    "std_previsoes = np.std(precisoes)\n",
    "std_revocacoes = np.std(revocacos)\n",
    "std_acuracia = np.std(acuracia)\n",
    "std_f1 = np.std(precisao_revocacao_auc)\n",
    "std_rocs_auc = np.std(rocs_auc)\n",
    "\n",
    "\n",
    "print()\n",
    "print('=-'*6 + 'Exibindo a media das metricas obtidas' + '=-'*6)\n",
    "print(f'Media da precisão: {media_previsoes:.3f} +/- {std_previsoes:.3f}')\n",
    "print(f'Media da precisão: {media_revocacoes:.3f} +/- {std_revocacoes:.3f}')\n",
    "print(f'Media da precisão: {media_acuracia:.3f} +/- {std_acuracia:.3f}')\n",
    "print(f'Media da precisão: {media_f1:.3f} +/- {std_f1:.3f}')\n",
    "print(f'Media da precisão: {media_rocs_auc:.3f} +/- {std_rocs_auc:.3f}')\n",
    "'''"
   ]
  },
  {
   "cell_type": "code",
   "execution_count": 26,
   "metadata": {},
   "outputs": [],
   "source": [
    "def trainer(X, y, k, model):\n",
    "    thershold = 0.5\n",
    "    # Inicializando a função StratifiedKFold\n",
    "    folds = StratifiedKFold(n_splits = k, shuffle = True, random_state = 42)\n",
    "\n",
    "    # Criando listas para armazenar os valores de precisão, revocação, acurácia, medida-F1, precision_recall_auc e roc_auc\n",
    "    # em cada fold\n",
    "    precisoes = list()\n",
    "    revocacoes = list()\n",
    "    acuracias = list()\n",
    "    Medida_F1 = list()\n",
    "    precision_recall_auc = list()\n",
    "    rocs_auc = list()\n",
    "    cm_total = np.zeros((2,2))\n",
    "\n",
    "    # Será aplicado o método \"split\" no objeto folds, que retornará uma lista \n",
    "    # com os índices das instâncias que pertencem ao conjunto de treino e \n",
    "    # outra com os índices das instâncias que pertencem ao conjunto de teste\n",
    "    \n",
    "    for k, (train_index, test_index) in enumerate(folds.split(X, y)):\n",
    "        print(\"=-\"*7 + f\"Fold: {k + 1}\" + \"=-\"*7)\n",
    "\n",
    "        # Dividindo os dados em treino e teste para cada um dos folds\n",
    "        X_train_interno, y_train_interno = X.iloc[train_index, :], y.iloc[train_index]\n",
    "        X_test_interno, y_test_interno = X.iloc[test_index, :], y.iloc[test_index]\n",
    "                \n",
    "        # train_index e test_index: São os índices das instâncias do conjunto \n",
    "        # de treino e teste, respectivamente, selecionados em cada um dos folds\n",
    "        \n",
    "        ###########################################\n",
    "        ############## Preprocessing ##############\n",
    "        ###########################################\n",
    "    \n",
    "        # Instanciando o CatBoost Encoder\n",
    "        encoder = CatBoostEncoder()\n",
    "\n",
    "        # Criando um imputer para preencher com a moda os valores faltantes de variáveis categóricas\n",
    "        cat_imputer = SimpleImputer(strategy = 'most_frequent')\n",
    "\n",
    "        # Criando um imputer para preencher com a mediana os valores faltantes de variáveis numéricas\n",
    "        num_imputer = SimpleImputer(strategy = 'median')\n",
    "\n",
    "        # Criando pipelines para variáveis categóricas e numéricas que preenche os valores faltantes\n",
    "        cat_pipeline = Pipeline([('encoder', encoder), ('imputer', cat_imputer)])\n",
    "        num_pipeline = Pipeline([('imputer', num_imputer)])\n",
    "\n",
    "        # Identifica as variáveis categóricas e numéricas\n",
    "        cat_cols = X_train_interno.select_dtypes(include = ['object']).columns\n",
    "        num_cols = X_train_interno.select_dtypes(exclude = ['object']).columns\n",
    "\n",
    "        # Aplicando os pipelines no conjunto de treinamento para preencher valores faltantes em colunas categóricas e numéricas\n",
    "        X_train_interno[cat_cols] = cat_pipeline.fit_transform(X_train_interno[cat_cols], y_train_interno)\n",
    "        X_train_interno[num_cols] = num_pipeline.fit_transform(X_train_interno[num_cols])\n",
    "\n",
    "        # Aplicando os pipelines ao conjunto de teste para preencher valores faltantes em colunas categóricas e numéricas\n",
    "        X_test_interno[cat_cols] = cat_pipeline.transform(X_test_interno[cat_cols])\n",
    "        X_test_interno[num_cols] = num_pipeline.transform(X_test_interno[num_cols])\n",
    "\n",
    "        # Treinando o modelo\n",
    "        model.fit(X_train_interno, y_train_interno)\n",
    "        joblib.dump(model, 'modelo_treinado.joblib')\n",
    "\n",
    "        # Obtendo as probabilidades relacionadas a classe 1\n",
    "        y_pred_proba = model.predict_proba(X_test_interno)[:,1]\n",
    "\n",
    "        # Obtendo as previsões do modelo\n",
    "        y_pred = np.where(y_pred_proba > thershold, 1, 0)\n",
    "\n",
    "        # Calculando a precisão e revocação para determinar a precision_recall_auc\n",
    "        precisao, revocacao, limiares = precision_recall_curve(y_test_interno, y_pred)\n",
    "\n",
    "        # Determinando as métricas para cada fold\n",
    "        cm_total += confusion_matrix(y_test_interno, y_pred)\n",
    "        precisao_revocacao_auc = auc(revocacao, precisao)\n",
    "        roc_auc = roc_auc_score(y_test_interno, y_pred_proba)\n",
    "        acuracia_score = accuracy_score(y_test_interno, y_pred)\n",
    "        precisao_score = precision_score(y_test_interno, y_pred)\n",
    "        revocacao_score = recall_score(y_test_interno, y_pred)\n",
    "        f1score = f1_score(y_test_interno, y_pred)\n",
    "\n",
    "        # Armazenando as métricas nas listas criadas\n",
    "        precisoes.append(precisao_score)\n",
    "        revocacoes.append(revocacao_score)\n",
    "        precision_recall_auc.append(precisao_revocacao_auc)\n",
    "        rocs_auc.append(roc_auc)\n",
    "        acuracias.append(acuracia_score)\n",
    "        Medida_F1.append(f1score)\n",
    "\n",
    "        # Exibindo as métricas para cada um dos folds\n",
    "        print(f\"Precisão: {precisao_score:.3f}\")\n",
    "        print(f\"Revocação: {revocacao_score:.3f}\")\n",
    "        print(f\"Acurácia: {acuracia_score:.3f}\")\n",
    "        print(f\"Medida F1: {f1score:.3f}\")\n",
    "        print(f\"Precision_recall AUC: {precisao_revocacao_auc:.3f}\")\n",
    "        print(f\"ROC AUC: {roc_auc:.3f}\")\n",
    "\n",
    "    # Transformando as listas em arrays para fazer operações matemáticas\n",
    "    precisoes = np.array(precisoes)\n",
    "    revocacoes = np.array(revocacoes)\n",
    "    acuracias = np.array(acuracias)\n",
    "    Medida_F1 = np.array(Medida_F1)\n",
    "    precision_recall_auc = np.array(precision_recall_auc)\n",
    "    rocs_auc = np.array(rocs_auc)\n",
    "\n",
    "    # Calculando as médias das métricas\n",
    "    media_precisao = np.mean(precisoes)\n",
    "    media_revocacao = np.mean(revocacoes)\n",
    "    media_acuracia = np.mean(acuracias)\n",
    "    media_F1 = np.mean(Medida_F1)\n",
    "    media_pr_AUC = np.mean(precision_recall_auc)\n",
    "    media_roc_AUC = np.mean(rocs_auc)\n",
    "\n",
    "    # Calculando os desvios padrão para cada métrica\n",
    "    std_precisao = np.std(precisoes)\n",
    "    std_revocacao = np.std(revocacoes)\n",
    "    std_acuracia = np.std(acuracias)\n",
    "    std_F1 = np.std(Medida_F1)\n",
    "    std_pr_AUC = np.std(precision_recall_auc)\n",
    "    std_roc_AUC = np.std(rocs_auc)\n",
    "\n",
    "    # Exibindo as médias das métricas obtidas\n",
    "    print()\n",
    "    print(\"=-\"*6 + \"Exibindo a média das métricas obtidas\" + \"-=\"*6)\n",
    "    print(f\"Média da precisão: {media_precisao:.3f} +/- {std_precisao:.3f}\")\n",
    "    print(f\"Média da revocação: {media_revocacao:.3f} +/- {std_revocacao:.3f}\")\n",
    "    print(f\"Média da acurácia: {media_acuracia:.3f} +/- {std_acuracia:.3f}\")\n",
    "    print(f\"Média da Medida F1: {media_F1:.3f} +/- {std_F1:.3f}\")\n",
    "    print(f\"Média da Precision/Recall AUC: {media_pr_AUC:.3f} +/- {std_pr_AUC:.3f}\")\n",
    "    print(f\"Média da ROC AUC: {media_roc_AUC:.3f} +/- {std_roc_AUC:.3f}\")\n",
    "\n",
    "    # Plotando a matriz de confusão\n",
    "    plt.figure(figsize = (8,6))\n",
    "    sns.heatmap(cm_total, annot=True, fmt = \".0f\", cmap = 'Blues')\n",
    "    plt.title(\"Matriz de Confusão de Todos os Folds\")\n",
    "    plt.ylabel('Verdadeiro')\n",
    "    plt.xlabel('Previsto')\n",
    "    plt.show()\n",
    "\n",
    "    joblib.dump(model, 'modelo_treinado.joblib')"
   ]
  },
  {
   "cell_type": "code",
   "execution_count": 23,
   "metadata": {},
   "outputs": [
    {
     "name": "stderr",
     "output_type": "stream",
     "text": [
      "[I 2024-04-04 15:46:49,623] A new study created in memory with name: no-name-f915865e-3e1a-4e41-9ce1-5a0f4fef3f10\n"
     ]
    },
    {
     "name": "stdout",
     "output_type": "stream",
     "text": [
      "=-=-=-=-=-=-=- Folds: 1 =-=-=-=-=-=-=-\n",
      "=-=-=-=-=-=-=- Folds: 2 =-=-=-=-=-=-=-\n",
      "=-=-=-=-=-=-=- Folds: 3 =-=-=-=-=-=-=-\n",
      "=-=-=-=-=-=-=- Folds: 4 =-=-=-=-=-=-=-\n",
      "=-=-=-=-=-=-=- Folds: 5 =-=-=-=-=-=-=-\n"
     ]
    },
    {
     "name": "stderr",
     "output_type": "stream",
     "text": [
      "[I 2024-04-04 15:46:55,090] Trial 0 finished with value: 0.8 and parameters: {'learning_rate': 0.0041001699090813856, 'max_depth': 6, 'subsample': 0.0, 'colsample_bytree': 0.7000000000000001, 'min_child_weight': 18, 'n_estimators': 176}. Best is trial 0 with value: 0.8.\n"
     ]
    },
    {
     "name": "stdout",
     "output_type": "stream",
     "text": [
      "Melhores hiperparâmetros encontrados: {'learning_rate': 0.0041001699090813856, 'max_depth': 6, 'subsample': 0.0, 'colsample_bytree': 0.7000000000000001, 'min_child_weight': 18, 'n_estimators': 176}\n",
      "=-=-=-=-=-=-=- Folds: 1 =-=-=-=-=-=-=-\n",
      "=-=-=-=-=-=-=- Folds: 2 =-=-=-=-=-=-=-\n",
      "=-=-=-=-=-=-=- Folds: 3 =-=-=-=-=-=-=-\n",
      "=-=-=-=-=-=-=- Folds: 4 =-=-=-=-=-=-=-\n",
      "=-=-=-=-=-=-=- Folds: 5 =-=-=-=-=-=-=-\n"
     ]
    },
    {
     "name": "stderr",
     "output_type": "stream",
     "text": [
      "[I 2024-04-04 15:49:14,972] Trial 1 finished with value: 0.7768964546020314 and parameters: {'learning_rate': 0.00770127212731791, 'max_depth': 12, 'subsample': 0.2, 'colsample_bytree': 0.5, 'min_child_weight': 16, 'n_estimators': 660}. Best is trial 0 with value: 0.8.\n"
     ]
    },
    {
     "name": "stdout",
     "output_type": "stream",
     "text": [
      "Melhores hiperparâmetros encontrados: {'learning_rate': 0.00770127212731791, 'max_depth': 12, 'subsample': 0.2, 'colsample_bytree': 0.5, 'min_child_weight': 16, 'n_estimators': 660}\n",
      "=-=-=-=-=-=-=- Folds: 1 =-=-=-=-=-=-=-\n",
      "=-=-=-=-=-=-=- Folds: 2 =-=-=-=-=-=-=-\n",
      "=-=-=-=-=-=-=- Folds: 3 =-=-=-=-=-=-=-\n",
      "=-=-=-=-=-=-=- Folds: 4 =-=-=-=-=-=-=-\n",
      "=-=-=-=-=-=-=- Folds: 5 =-=-=-=-=-=-=-\n"
     ]
    },
    {
     "name": "stderr",
     "output_type": "stream",
     "text": [
      "[I 2024-04-04 15:52:23,724] Trial 2 finished with value: 0.7953094136428822 and parameters: {'learning_rate': 0.002440734335883991, 'max_depth': 8, 'subsample': 0.7000000000000001, 'colsample_bytree': 0.8, 'min_child_weight': 2, 'n_estimators': 991}. Best is trial 0 with value: 0.8.\n"
     ]
    },
    {
     "name": "stdout",
     "output_type": "stream",
     "text": [
      "Melhores hiperparâmetros encontrados: {'learning_rate': 0.002440734335883991, 'max_depth': 8, 'subsample': 0.7000000000000001, 'colsample_bytree': 0.8, 'min_child_weight': 2, 'n_estimators': 991}\n",
      "=-=-=-=-=-=-=- Folds: 1 =-=-=-=-=-=-=-\n",
      "=-=-=-=-=-=-=- Folds: 2 =-=-=-=-=-=-=-\n",
      "=-=-=-=-=-=-=- Folds: 3 =-=-=-=-=-=-=-\n",
      "=-=-=-=-=-=-=- Folds: 4 =-=-=-=-=-=-=-\n",
      "=-=-=-=-=-=-=- Folds: 5 =-=-=-=-=-=-=-\n"
     ]
    },
    {
     "name": "stderr",
     "output_type": "stream",
     "text": [
      "[I 2024-04-04 15:54:29,492] Trial 3 finished with value: 0.7975144537345203 and parameters: {'learning_rate': 0.0025794010387732926, 'max_depth': 7, 'subsample': 0.4, 'colsample_bytree': 0.5, 'min_child_weight': 4, 'n_estimators': 901}. Best is trial 0 with value: 0.8.\n"
     ]
    },
    {
     "name": "stdout",
     "output_type": "stream",
     "text": [
      "Melhores hiperparâmetros encontrados: {'learning_rate': 0.0025794010387732926, 'max_depth': 7, 'subsample': 0.4, 'colsample_bytree': 0.5, 'min_child_weight': 4, 'n_estimators': 901}\n",
      "=-=-=-=-=-=-=- Folds: 1 =-=-=-=-=-=-=-\n",
      "=-=-=-=-=-=-=- Folds: 2 =-=-=-=-=-=-=-\n",
      "=-=-=-=-=-=-=- Folds: 3 =-=-=-=-=-=-=-\n",
      "=-=-=-=-=-=-=- Folds: 4 =-=-=-=-=-=-=-\n",
      "=-=-=-=-=-=-=- Folds: 5 =-=-=-=-=-=-=-\n"
     ]
    },
    {
     "name": "stderr",
     "output_type": "stream",
     "text": [
      "[I 2024-04-04 15:54:42,498] Trial 4 finished with value: 0.7969415192594833 and parameters: {'learning_rate': 0.05351738788726471, 'max_depth': 1, 'subsample': 0.5, 'colsample_bytree': 0.9, 'min_child_weight': 3, 'n_estimators': 196}. Best is trial 0 with value: 0.8.\n"
     ]
    },
    {
     "name": "stdout",
     "output_type": "stream",
     "text": [
      "Melhores hiperparâmetros encontrados: {'learning_rate': 0.05351738788726471, 'max_depth': 1, 'subsample': 0.5, 'colsample_bytree': 0.9, 'min_child_weight': 3, 'n_estimators': 196}\n",
      "=-=-=-=-=-=-=- Folds: 1 =-=-=-=-=-=-=-\n",
      "=-=-=-=-=-=-=- Folds: 2 =-=-=-=-=-=-=-\n",
      "=-=-=-=-=-=-=- Folds: 3 =-=-=-=-=-=-=-\n",
      "=-=-=-=-=-=-=- Folds: 4 =-=-=-=-=-=-=-\n",
      "=-=-=-=-=-=-=- Folds: 5 =-=-=-=-=-=-=-\n"
     ]
    },
    {
     "name": "stderr",
     "output_type": "stream",
     "text": [
      "[I 2024-04-04 15:57:11,908] Trial 5 finished with value: 0.7902409352064356 and parameters: {'learning_rate': 0.004486993808253369, 'max_depth': 9, 'subsample': 0.8, 'colsample_bytree': 0.0, 'min_child_weight': 15, 'n_estimators': 1361}. Best is trial 0 with value: 0.8.\n"
     ]
    },
    {
     "name": "stdout",
     "output_type": "stream",
     "text": [
      "Melhores hiperparâmetros encontrados: {'learning_rate': 0.004486993808253369, 'max_depth': 9, 'subsample': 0.8, 'colsample_bytree': 0.0, 'min_child_weight': 15, 'n_estimators': 1361}\n",
      "=-=-=-=-=-=-=- Folds: 1 =-=-=-=-=-=-=-\n",
      "=-=-=-=-=-=-=- Folds: 2 =-=-=-=-=-=-=-\n",
      "=-=-=-=-=-=-=- Folds: 3 =-=-=-=-=-=-=-\n",
      "=-=-=-=-=-=-=- Folds: 4 =-=-=-=-=-=-=-\n",
      "=-=-=-=-=-=-=- Folds: 5 =-=-=-=-=-=-=-\n"
     ]
    },
    {
     "name": "stderr",
     "output_type": "stream",
     "text": [
      "[I 2024-04-04 15:59:14,903] Trial 6 finished with value: 0.7881794034180591 and parameters: {'learning_rate': 0.019725951895898267, 'max_depth': 13, 'subsample': 0.1, 'colsample_bytree': 0.0, 'min_child_weight': 17, 'n_estimators': 1088}. Best is trial 0 with value: 0.8.\n"
     ]
    },
    {
     "name": "stdout",
     "output_type": "stream",
     "text": [
      "Melhores hiperparâmetros encontrados: {'learning_rate': 0.019725951895898267, 'max_depth': 13, 'subsample': 0.1, 'colsample_bytree': 0.0, 'min_child_weight': 17, 'n_estimators': 1088}\n",
      "=-=-=-=-=-=-=- Folds: 1 =-=-=-=-=-=-=-\n",
      "=-=-=-=-=-=-=- Folds: 2 =-=-=-=-=-=-=-\n",
      "=-=-=-=-=-=-=- Folds: 3 =-=-=-=-=-=-=-\n",
      "=-=-=-=-=-=-=- Folds: 4 =-=-=-=-=-=-=-\n",
      "=-=-=-=-=-=-=- Folds: 5 =-=-=-=-=-=-=-\n"
     ]
    },
    {
     "name": "stderr",
     "output_type": "stream",
     "text": [
      "[I 2024-04-04 16:00:36,688] Trial 7 finished with value: 0.788551404129779 and parameters: {'learning_rate': 0.008219764678100405, 'max_depth': 8, 'subsample': 0.30000000000000004, 'colsample_bytree': 0.2, 'min_child_weight': 8, 'n_estimators': 559}. Best is trial 0 with value: 0.8.\n"
     ]
    },
    {
     "name": "stdout",
     "output_type": "stream",
     "text": [
      "Melhores hiperparâmetros encontrados: {'learning_rate': 0.008219764678100405, 'max_depth': 8, 'subsample': 0.30000000000000004, 'colsample_bytree': 0.2, 'min_child_weight': 8, 'n_estimators': 559}\n",
      "=-=-=-=-=-=-=- Folds: 1 =-=-=-=-=-=-=-\n",
      "=-=-=-=-=-=-=- Folds: 2 =-=-=-=-=-=-=-\n",
      "=-=-=-=-=-=-=- Folds: 3 =-=-=-=-=-=-=-\n",
      "=-=-=-=-=-=-=- Folds: 4 =-=-=-=-=-=-=-\n",
      "=-=-=-=-=-=-=- Folds: 5 =-=-=-=-=-=-=-\n"
     ]
    },
    {
     "name": "stderr",
     "output_type": "stream",
     "text": [
      "[I 2024-04-04 16:02:43,082] Trial 8 finished with value: 0.7467999050493571 and parameters: {'learning_rate': 0.0778466451059535, 'max_depth': 6, 'subsample': 0.4, 'colsample_bytree': 0.9, 'min_child_weight': 1, 'n_estimators': 1283}. Best is trial 0 with value: 0.8.\n"
     ]
    },
    {
     "name": "stdout",
     "output_type": "stream",
     "text": [
      "Melhores hiperparâmetros encontrados: {'learning_rate': 0.0778466451059535, 'max_depth': 6, 'subsample': 0.4, 'colsample_bytree': 0.9, 'min_child_weight': 1, 'n_estimators': 1283}\n",
      "=-=-=-=-=-=-=- Folds: 1 =-=-=-=-=-=-=-\n",
      "=-=-=-=-=-=-=- Folds: 2 =-=-=-=-=-=-=-\n",
      "=-=-=-=-=-=-=- Folds: 3 =-=-=-=-=-=-=-\n",
      "=-=-=-=-=-=-=- Folds: 4 =-=-=-=-=-=-=-\n",
      "=-=-=-=-=-=-=- Folds: 5 =-=-=-=-=-=-=-\n"
     ]
    },
    {
     "name": "stderr",
     "output_type": "stream",
     "text": [
      "[I 2024-04-04 16:08:02,593] Trial 9 finished with value: 0.7627215289513366 and parameters: {'learning_rate': 0.006465004818819823, 'max_depth': 12, 'subsample': 0.2, 'colsample_bytree': 0.8, 'min_child_weight': 9, 'n_estimators': 1541}. Best is trial 0 with value: 0.8.\n"
     ]
    },
    {
     "name": "stdout",
     "output_type": "stream",
     "text": [
      "Melhores hiperparâmetros encontrados: {'learning_rate': 0.006465004818819823, 'max_depth': 12, 'subsample': 0.2, 'colsample_bytree': 0.8, 'min_child_weight': 9, 'n_estimators': 1541}\n",
      "=-=-=-=-=-=-=- Folds: 1 =-=-=-=-=-=-=-\n",
      "=-=-=-=-=-=-=- Folds: 2 =-=-=-=-=-=-=-\n",
      "=-=-=-=-=-=-=- Folds: 3 =-=-=-=-=-=-=-\n",
      "=-=-=-=-=-=-=- Folds: 4 =-=-=-=-=-=-=-\n",
      "=-=-=-=-=-=-=- Folds: 5 =-=-=-=-=-=-=-\n"
     ]
    },
    {
     "name": "stderr",
     "output_type": "stream",
     "text": [
      "[I 2024-04-04 16:09:11,189] Trial 10 finished with value: 0.8 and parameters: {'learning_rate': 0.0010689479142601099, 'max_depth': 20, 'subsample': 0.0, 'colsample_bytree': 0.6000000000000001, 'min_child_weight': 20, 'n_estimators': 1937}. Best is trial 0 with value: 0.8.\n"
     ]
    },
    {
     "name": "stdout",
     "output_type": "stream",
     "text": [
      "Melhores hiperparâmetros encontrados: {'learning_rate': 0.0010689479142601099, 'max_depth': 20, 'subsample': 0.0, 'colsample_bytree': 0.6000000000000001, 'min_child_weight': 20, 'n_estimators': 1937}\n",
      "=-=-=-=-=-=-=- Folds: 1 =-=-=-=-=-=-=-\n",
      "=-=-=-=-=-=-=- Folds: 2 =-=-=-=-=-=-=-\n",
      "=-=-=-=-=-=-=- Folds: 3 =-=-=-=-=-=-=-\n",
      "=-=-=-=-=-=-=- Folds: 4 =-=-=-=-=-=-=-\n",
      "=-=-=-=-=-=-=- Folds: 5 =-=-=-=-=-=-=-\n"
     ]
    },
    {
     "name": "stderr",
     "output_type": "stream",
     "text": [
      "[I 2024-04-04 16:10:04,970] Trial 11 finished with value: 0.8 and parameters: {'learning_rate': 0.0011524230559704506, 'max_depth': 20, 'subsample': 0.0, 'colsample_bytree': 0.6000000000000001, 'min_child_weight': 20, 'n_estimators': 1825}. Best is trial 0 with value: 0.8.\n"
     ]
    },
    {
     "name": "stdout",
     "output_type": "stream",
     "text": [
      "Melhores hiperparâmetros encontrados: {'learning_rate': 0.0011524230559704506, 'max_depth': 20, 'subsample': 0.0, 'colsample_bytree': 0.6000000000000001, 'min_child_weight': 20, 'n_estimators': 1825}\n",
      "=-=-=-=-=-=-=- Folds: 1 =-=-=-=-=-=-=-\n",
      "=-=-=-=-=-=-=- Folds: 2 =-=-=-=-=-=-=-\n",
      "=-=-=-=-=-=-=- Folds: 3 =-=-=-=-=-=-=-\n",
      "=-=-=-=-=-=-=- Folds: 4 =-=-=-=-=-=-=-\n",
      "=-=-=-=-=-=-=- Folds: 5 =-=-=-=-=-=-=-\n"
     ]
    },
    {
     "name": "stderr",
     "output_type": "stream",
     "text": [
      "[I 2024-04-04 16:22:39,174] Trial 12 finished with value: 0.7591993684716308 and parameters: {'learning_rate': 0.001244309180047326, 'max_depth': 20, 'subsample': 1.0, 'colsample_bytree': 0.6000000000000001, 'min_child_weight': 20, 'n_estimators': 1957}. Best is trial 0 with value: 0.8.\n"
     ]
    },
    {
     "name": "stdout",
     "output_type": "stream",
     "text": [
      "Melhores hiperparâmetros encontrados: {'learning_rate': 0.001244309180047326, 'max_depth': 20, 'subsample': 1.0, 'colsample_bytree': 0.6000000000000001, 'min_child_weight': 20, 'n_estimators': 1957}\n",
      "=-=-=-=-=-=-=- Folds: 1 =-=-=-=-=-=-=-\n",
      "=-=-=-=-=-=-=- Folds: 2 =-=-=-=-=-=-=-\n",
      "=-=-=-=-=-=-=- Folds: 3 =-=-=-=-=-=-=-\n",
      "=-=-=-=-=-=-=- Folds: 4 =-=-=-=-=-=-=-\n",
      "=-=-=-=-=-=-=- Folds: 5 =-=-=-=-=-=-=-\n"
     ]
    },
    {
     "name": "stderr",
     "output_type": "stream",
     "text": [
      "[I 2024-04-04 16:22:44,628] Trial 13 finished with value: 0.8 and parameters: {'learning_rate': 0.021518684683278985, 'max_depth': 16, 'subsample': 0.0, 'colsample_bytree': 0.30000000000000004, 'min_child_weight': 13, 'n_estimators': 108}. Best is trial 0 with value: 0.8.\n"
     ]
    },
    {
     "name": "stdout",
     "output_type": "stream",
     "text": [
      "Melhores hiperparâmetros encontrados: {'learning_rate': 0.021518684683278985, 'max_depth': 16, 'subsample': 0.0, 'colsample_bytree': 0.30000000000000004, 'min_child_weight': 13, 'n_estimators': 108}\n",
      "=-=-=-=-=-=-=- Folds: 1 =-=-=-=-=-=-=-\n",
      "=-=-=-=-=-=-=- Folds: 2 =-=-=-=-=-=-=-\n",
      "=-=-=-=-=-=-=- Folds: 3 =-=-=-=-=-=-=-\n",
      "=-=-=-=-=-=-=- Folds: 4 =-=-=-=-=-=-=-\n",
      "=-=-=-=-=-=-=- Folds: 5 =-=-=-=-=-=-=-\n"
     ]
    },
    {
     "name": "stderr",
     "output_type": "stream",
     "text": [
      "[I 2024-04-04 16:22:59,644] Trial 14 finished with value: 0.8 and parameters: {'learning_rate': 0.0023220184869691455, 'max_depth': 4, 'subsample': 0.0, 'colsample_bytree': 0.7000000000000001, 'min_child_weight': 18, 'n_estimators': 560}. Best is trial 0 with value: 0.8.\n"
     ]
    },
    {
     "name": "stdout",
     "output_type": "stream",
     "text": [
      "Melhores hiperparâmetros encontrados: {'learning_rate': 0.0023220184869691455, 'max_depth': 4, 'subsample': 0.0, 'colsample_bytree': 0.7000000000000001, 'min_child_weight': 18, 'n_estimators': 560}\n",
      "=-=-=-=-=-=-=- Folds: 1 =-=-=-=-=-=-=-\n",
      "=-=-=-=-=-=-=- Folds: 2 =-=-=-=-=-=-=-\n",
      "=-=-=-=-=-=-=- Folds: 3 =-=-=-=-=-=-=-\n",
      "=-=-=-=-=-=-=- Folds: 4 =-=-=-=-=-=-=-\n",
      "=-=-=-=-=-=-=- Folds: 5 =-=-=-=-=-=-=-\n"
     ]
    },
    {
     "name": "stderr",
     "output_type": "stream",
     "text": [
      "[I 2024-04-04 16:26:01,858] Trial 15 finished with value: 0.7127801966413055 and parameters: {'learning_rate': 0.016624935046355514, 'max_depth': 16, 'subsample': 0.2, 'colsample_bytree': 1.0, 'min_child_weight': 13, 'n_estimators': 1675}. Best is trial 0 with value: 0.8.\n"
     ]
    },
    {
     "name": "stdout",
     "output_type": "stream",
     "text": [
      "Melhores hiperparâmetros encontrados: {'learning_rate': 0.016624935046355514, 'max_depth': 16, 'subsample': 0.2, 'colsample_bytree': 1.0, 'min_child_weight': 13, 'n_estimators': 1675}\n",
      "=-=-=-=-=-=-=- Folds: 1 =-=-=-=-=-=-=-\n",
      "=-=-=-=-=-=-=- Folds: 2 =-=-=-=-=-=-=-\n",
      "=-=-=-=-=-=-=- Folds: 3 =-=-=-=-=-=-=-\n",
      "=-=-=-=-=-=-=- Folds: 4 =-=-=-=-=-=-=-\n",
      "=-=-=-=-=-=-=- Folds: 5 =-=-=-=-=-=-=-\n"
     ]
    },
    {
     "name": "stderr",
     "output_type": "stream",
     "text": [
      "[I 2024-04-04 16:26:15,872] Trial 16 finished with value: 0.7914435859528804 and parameters: {'learning_rate': 0.0035214834797945758, 'max_depth': 3, 'subsample': 0.7000000000000001, 'colsample_bytree': 0.30000000000000004, 'min_child_weight': 13, 'n_estimators': 425}. Best is trial 0 with value: 0.8.\n"
     ]
    },
    {
     "name": "stdout",
     "output_type": "stream",
     "text": [
      "Melhores hiperparâmetros encontrados: {'learning_rate': 0.0035214834797945758, 'max_depth': 3, 'subsample': 0.7000000000000001, 'colsample_bytree': 0.30000000000000004, 'min_child_weight': 13, 'n_estimators': 425}\n",
      "=-=-=-=-=-=-=- Folds: 1 =-=-=-=-=-=-=-\n",
      "=-=-=-=-=-=-=- Folds: 2 =-=-=-=-=-=-=-\n",
      "=-=-=-=-=-=-=- Folds: 3 =-=-=-=-=-=-=-\n",
      "=-=-=-=-=-=-=- Folds: 4 =-=-=-=-=-=-=-\n",
      "=-=-=-=-=-=-=- Folds: 5 =-=-=-=-=-=-=-\n"
     ]
    },
    {
     "name": "stderr",
     "output_type": "stream",
     "text": [
      "[I 2024-04-04 16:26:28,639] Trial 17 finished with value: 0.8 and parameters: {'learning_rate': 0.0013266728031498152, 'max_depth': 17, 'subsample': 0.0, 'colsample_bytree': 0.4, 'min_child_weight': 19, 'n_estimators': 779}. Best is trial 0 with value: 0.8.\n"
     ]
    },
    {
     "name": "stdout",
     "output_type": "stream",
     "text": [
      "Melhores hiperparâmetros encontrados: {'learning_rate': 0.0013266728031498152, 'max_depth': 17, 'subsample': 0.0, 'colsample_bytree': 0.4, 'min_child_weight': 19, 'n_estimators': 779}\n",
      "=-=-=-=-=-=-=- Folds: 1 =-=-=-=-=-=-=-\n",
      "=-=-=-=-=-=-=- Folds: 2 =-=-=-=-=-=-=-\n",
      "=-=-=-=-=-=-=- Folds: 3 =-=-=-=-=-=-=-\n",
      "=-=-=-=-=-=-=- Folds: 4 =-=-=-=-=-=-=-\n",
      "=-=-=-=-=-=-=- Folds: 5 =-=-=-=-=-=-=-\n"
     ]
    },
    {
     "name": "stderr",
     "output_type": "stream",
     "text": [
      "[I 2024-04-04 16:27:13,305] Trial 18 finished with value: 0.8010080347266808 and parameters: {'learning_rate': 0.0017068170518954094, 'max_depth': 5, 'subsample': 0.1, 'colsample_bytree': 0.7000000000000001, 'min_child_weight': 15, 'n_estimators': 1220}. Best is trial 18 with value: 0.8010080347266808.\n"
     ]
    },
    {
     "name": "stdout",
     "output_type": "stream",
     "text": [
      "Melhores hiperparâmetros encontrados: {'learning_rate': 0.0017068170518954094, 'max_depth': 5, 'subsample': 0.1, 'colsample_bytree': 0.7000000000000001, 'min_child_weight': 15, 'n_estimators': 1220}\n",
      "=-=-=-=-=-=-=- Folds: 1 =-=-=-=-=-=-=-\n",
      "=-=-=-=-=-=-=- Folds: 2 =-=-=-=-=-=-=-\n",
      "=-=-=-=-=-=-=- Folds: 3 =-=-=-=-=-=-=-\n",
      "=-=-=-=-=-=-=- Folds: 4 =-=-=-=-=-=-=-\n",
      "=-=-=-=-=-=-=- Folds: 5 =-=-=-=-=-=-=-\n"
     ]
    },
    {
     "name": "stderr",
     "output_type": "stream",
     "text": [
      "[I 2024-04-04 16:27:59,108] Trial 19 finished with value: 0.8032989895710084 and parameters: {'learning_rate': 0.004809488611338219, 'max_depth': 5, 'subsample': 0.30000000000000004, 'colsample_bytree': 0.7000000000000001, 'min_child_weight': 11, 'n_estimators': 1234}. Best is trial 19 with value: 0.8032989895710084.\n"
     ]
    },
    {
     "name": "stdout",
     "output_type": "stream",
     "text": [
      "Melhores hiperparâmetros encontrados: {'learning_rate': 0.004809488611338219, 'max_depth': 5, 'subsample': 0.30000000000000004, 'colsample_bytree': 0.7000000000000001, 'min_child_weight': 11, 'n_estimators': 1234}\n",
      "=-=-=-=-=-=-=- Folds: 1 =-=-=-=-=-=-=-\n",
      "=-=-=-=-=-=-=- Folds: 2 =-=-=-=-=-=-=-\n",
      "=-=-=-=-=-=-=- Folds: 3 =-=-=-=-=-=-=-\n",
      "=-=-=-=-=-=-=- Folds: 4 =-=-=-=-=-=-=-\n",
      "=-=-=-=-=-=-=- Folds: 5 =-=-=-=-=-=-=-\n"
     ]
    },
    {
     "name": "stderr",
     "output_type": "stream",
     "text": [
      "[I 2024-04-04 16:28:21,924] Trial 20 finished with value: 0.7967125594773943 and parameters: {'learning_rate': 0.013062414130421276, 'max_depth': 1, 'subsample': 0.30000000000000004, 'colsample_bytree': 1.0, 'min_child_weight': 10, 'n_estimators': 1263}. Best is trial 19 with value: 0.8032989895710084.\n"
     ]
    },
    {
     "name": "stdout",
     "output_type": "stream",
     "text": [
      "Melhores hiperparâmetros encontrados: {'learning_rate': 0.013062414130421276, 'max_depth': 1, 'subsample': 0.30000000000000004, 'colsample_bytree': 1.0, 'min_child_weight': 10, 'n_estimators': 1263}\n",
      "=-=-=-=-=-=-=- Folds: 1 =-=-=-=-=-=-=-\n",
      "=-=-=-=-=-=-=- Folds: 2 =-=-=-=-=-=-=-\n",
      "=-=-=-=-=-=-=- Folds: 3 =-=-=-=-=-=-=-\n",
      "=-=-=-=-=-=-=- Folds: 4 =-=-=-=-=-=-=-\n",
      "=-=-=-=-=-=-=- Folds: 5 =-=-=-=-=-=-=-\n"
     ]
    },
    {
     "name": "stderr",
     "output_type": "stream",
     "text": [
      "[I 2024-04-04 16:29:02,599] Trial 21 finished with value: 0.8022680904343378 and parameters: {'learning_rate': 0.004448401489487354, 'max_depth': 5, 'subsample': 0.1, 'colsample_bytree': 0.7000000000000001, 'min_child_weight': 7, 'n_estimators': 1169}. Best is trial 19 with value: 0.8032989895710084.\n"
     ]
    },
    {
     "name": "stdout",
     "output_type": "stream",
     "text": [
      "Melhores hiperparâmetros encontrados: {'learning_rate': 0.004448401489487354, 'max_depth': 5, 'subsample': 0.1, 'colsample_bytree': 0.7000000000000001, 'min_child_weight': 7, 'n_estimators': 1169}\n",
      "=-=-=-=-=-=-=- Folds: 1 =-=-=-=-=-=-=-\n",
      "=-=-=-=-=-=-=- Folds: 2 =-=-=-=-=-=-=-\n",
      "=-=-=-=-=-=-=- Folds: 3 =-=-=-=-=-=-=-\n",
      "=-=-=-=-=-=-=- Folds: 4 =-=-=-=-=-=-=-\n",
      "=-=-=-=-=-=-=- Folds: 5 =-=-=-=-=-=-=-\n"
     ]
    },
    {
     "name": "stderr",
     "output_type": "stream",
     "text": [
      "[I 2024-04-04 16:29:47,811] Trial 22 finished with value: 0.8009793609444555 and parameters: {'learning_rate': 0.0017576494752443133, 'max_depth': 4, 'subsample': 0.2, 'colsample_bytree': 0.7000000000000001, 'min_child_weight': 6, 'n_estimators': 1457}. Best is trial 19 with value: 0.8032989895710084.\n"
     ]
    },
    {
     "name": "stdout",
     "output_type": "stream",
     "text": [
      "Melhores hiperparâmetros encontrados: {'learning_rate': 0.0017576494752443133, 'max_depth': 4, 'subsample': 0.2, 'colsample_bytree': 0.7000000000000001, 'min_child_weight': 6, 'n_estimators': 1457}\n",
      "=-=-=-=-=-=-=- Folds: 1 =-=-=-=-=-=-=-\n",
      "=-=-=-=-=-=-=- Folds: 2 =-=-=-=-=-=-=-\n",
      "=-=-=-=-=-=-=- Folds: 3 =-=-=-=-=-=-=-\n",
      "=-=-=-=-=-=-=- Folds: 4 =-=-=-=-=-=-=-\n",
      "=-=-=-=-=-=-=- Folds: 5 =-=-=-=-=-=-=-\n"
     ]
    },
    {
     "name": "stderr",
     "output_type": "stream",
     "text": [
      "[I 2024-04-04 16:30:17,291] Trial 23 finished with value: 0.8028693502112612 and parameters: {'learning_rate': 0.004776130005677637, 'max_depth': 3, 'subsample': 0.30000000000000004, 'colsample_bytree': 0.8, 'min_child_weight': 7, 'n_estimators': 1107}. Best is trial 19 with value: 0.8032989895710084.\n"
     ]
    },
    {
     "name": "stdout",
     "output_type": "stream",
     "text": [
      "Melhores hiperparâmetros encontrados: {'learning_rate': 0.004776130005677637, 'max_depth': 3, 'subsample': 0.30000000000000004, 'colsample_bytree': 0.8, 'min_child_weight': 7, 'n_estimators': 1107}\n",
      "=-=-=-=-=-=-=- Folds: 1 =-=-=-=-=-=-=-\n",
      "=-=-=-=-=-=-=- Folds: 2 =-=-=-=-=-=-=-\n",
      "=-=-=-=-=-=-=- Folds: 3 =-=-=-=-=-=-=-\n",
      "=-=-=-=-=-=-=- Folds: 4 =-=-=-=-=-=-=-\n",
      "=-=-=-=-=-=-=- Folds: 5 =-=-=-=-=-=-=-\n"
     ]
    },
    {
     "name": "stderr",
     "output_type": "stream",
     "text": [
      "[I 2024-04-04 16:30:42,427] Trial 24 finished with value: 0.7945935202335883 and parameters: {'learning_rate': 0.005990576806386782, 'max_depth': 2, 'subsample': 0.4, 'colsample_bytree': 0.8, 'min_child_weight': 7, 'n_estimators': 1120}. Best is trial 19 with value: 0.8032989895710084.\n"
     ]
    },
    {
     "name": "stdout",
     "output_type": "stream",
     "text": [
      "Melhores hiperparâmetros encontrados: {'learning_rate': 0.005990576806386782, 'max_depth': 2, 'subsample': 0.4, 'colsample_bytree': 0.8, 'min_child_weight': 7, 'n_estimators': 1120}\n",
      "=-=-=-=-=-=-=- Folds: 1 =-=-=-=-=-=-=-\n",
      "=-=-=-=-=-=-=- Folds: 2 =-=-=-=-=-=-=-\n",
      "=-=-=-=-=-=-=- Folds: 3 =-=-=-=-=-=-=-\n",
      "=-=-=-=-=-=-=- Folds: 4 =-=-=-=-=-=-=-\n",
      "=-=-=-=-=-=-=- Folds: 5 =-=-=-=-=-=-=-\n"
     ]
    },
    {
     "name": "stderr",
     "output_type": "stream",
     "text": [
      "[I 2024-04-04 16:32:17,903] Trial 25 finished with value: 0.7734314489976476 and parameters: {'learning_rate': 0.005091777619104452, 'max_depth': 10, 'subsample': 0.5, 'colsample_bytree': 0.9, 'min_child_weight': 5, 'n_estimators': 918}. Best is trial 19 with value: 0.8032989895710084.\n"
     ]
    },
    {
     "name": "stdout",
     "output_type": "stream",
     "text": [
      "Melhores hiperparâmetros encontrados: {'learning_rate': 0.005091777619104452, 'max_depth': 10, 'subsample': 0.5, 'colsample_bytree': 0.9, 'min_child_weight': 5, 'n_estimators': 918}\n",
      "=-=-=-=-=-=-=- Folds: 1 =-=-=-=-=-=-=-\n",
      "=-=-=-=-=-=-=- Folds: 2 =-=-=-=-=-=-=-\n",
      "=-=-=-=-=-=-=- Folds: 3 =-=-=-=-=-=-=-\n",
      "=-=-=-=-=-=-=- Folds: 4 =-=-=-=-=-=-=-\n",
      "=-=-=-=-=-=-=- Folds: 5 =-=-=-=-=-=-=-\n"
     ]
    },
    {
     "name": "stderr",
     "output_type": "stream",
     "text": [
      "[I 2024-04-04 16:33:04,387] Trial 26 finished with value: 0.8069929836558621 and parameters: {'learning_rate': 0.010405593148210079, 'max_depth': 3, 'subsample': 0.30000000000000004, 'colsample_bytree': 0.8, 'min_child_weight': 10, 'n_estimators': 1635}. Best is trial 26 with value: 0.8069929836558621.\n"
     ]
    },
    {
     "name": "stdout",
     "output_type": "stream",
     "text": [
      "Melhores hiperparâmetros encontrados: {'learning_rate': 0.010405593148210079, 'max_depth': 3, 'subsample': 0.30000000000000004, 'colsample_bytree': 0.8, 'min_child_weight': 10, 'n_estimators': 1635}\n",
      "=-=-=-=-=-=-=- Folds: 1 =-=-=-=-=-=-=-\n",
      "=-=-=-=-=-=-=- Folds: 2 =-=-=-=-=-=-=-\n",
      "=-=-=-=-=-=-=- Folds: 3 =-=-=-=-=-=-=-\n",
      "=-=-=-=-=-=-=- Folds: 4 =-=-=-=-=-=-=-\n",
      "=-=-=-=-=-=-=- Folds: 5 =-=-=-=-=-=-=-\n"
     ]
    },
    {
     "name": "stderr",
     "output_type": "stream",
     "text": [
      "[I 2024-04-04 16:34:07,040] Trial 27 finished with value: 0.8072793811973128 and parameters: {'learning_rate': 0.011718699141919644, 'max_depth': 3, 'subsample': 0.6000000000000001, 'colsample_bytree': 0.8, 'min_child_weight': 11, 'n_estimators': 1689}. Best is trial 27 with value: 0.8072793811973128.\n"
     ]
    },
    {
     "name": "stdout",
     "output_type": "stream",
     "text": [
      "Melhores hiperparâmetros encontrados: {'learning_rate': 0.011718699141919644, 'max_depth': 3, 'subsample': 0.6000000000000001, 'colsample_bytree': 0.8, 'min_child_weight': 11, 'n_estimators': 1689}\n",
      "=-=-=-=-=-=-=- Folds: 1 =-=-=-=-=-=-=-\n",
      "=-=-=-=-=-=-=- Folds: 2 =-=-=-=-=-=-=-\n",
      "=-=-=-=-=-=-=- Folds: 3 =-=-=-=-=-=-=-\n",
      "=-=-=-=-=-=-=- Folds: 4 =-=-=-=-=-=-=-\n",
      "=-=-=-=-=-=-=- Folds: 5 =-=-=-=-=-=-=-\n"
     ]
    },
    {
     "name": "stderr",
     "output_type": "stream",
     "text": [
      "[I 2024-04-04 16:34:59,404] Trial 28 finished with value: 0.8059907337028044 and parameters: {'learning_rate': 0.029655626444443802, 'max_depth': 2, 'subsample': 0.6000000000000001, 'colsample_bytree': 0.9, 'min_child_weight': 11, 'n_estimators': 1664}. Best is trial 27 with value: 0.8072793811973128.\n"
     ]
    },
    {
     "name": "stdout",
     "output_type": "stream",
     "text": [
      "Melhores hiperparâmetros encontrados: {'learning_rate': 0.029655626444443802, 'max_depth': 2, 'subsample': 0.6000000000000001, 'colsample_bytree': 0.9, 'min_child_weight': 11, 'n_estimators': 1664}\n",
      "=-=-=-=-=-=-=- Folds: 1 =-=-=-=-=-=-=-\n",
      "=-=-=-=-=-=-=- Folds: 2 =-=-=-=-=-=-=-\n",
      "=-=-=-=-=-=-=- Folds: 3 =-=-=-=-=-=-=-\n",
      "=-=-=-=-=-=-=- Folds: 4 =-=-=-=-=-=-=-\n",
      "=-=-=-=-=-=-=- Folds: 5 =-=-=-=-=-=-=-\n"
     ]
    },
    {
     "name": "stderr",
     "output_type": "stream",
     "text": [
      "[I 2024-04-04 16:36:03,834] Trial 29 finished with value: 0.8063343722147197 and parameters: {'learning_rate': 0.03306387272513489, 'max_depth': 2, 'subsample': 0.6000000000000001, 'colsample_bytree': 1.0, 'min_child_weight': 11, 'n_estimators': 1676}. Best is trial 27 with value: 0.8072793811973128.\n"
     ]
    },
    {
     "name": "stdout",
     "output_type": "stream",
     "text": [
      "Melhores hiperparâmetros encontrados: {'learning_rate': 0.03306387272513489, 'max_depth': 2, 'subsample': 0.6000000000000001, 'colsample_bytree': 1.0, 'min_child_weight': 11, 'n_estimators': 1676}\n",
      "=-=-=-=-=-=-=- Folds: 1 =-=-=-=-=-=-=-\n",
      "=-=-=-=-=-=-=- Folds: 2 =-=-=-=-=-=-=-\n",
      "=-=-=-=-=-=-=- Folds: 3 =-=-=-=-=-=-=-\n",
      "=-=-=-=-=-=-=- Folds: 4 =-=-=-=-=-=-=-\n",
      "=-=-=-=-=-=-=- Folds: 5 =-=-=-=-=-=-=-\n"
     ]
    },
    {
     "name": "stderr",
     "output_type": "stream",
     "text": [
      "[I 2024-04-04 16:36:49,762] Trial 30 finished with value: 0.7995761987108688 and parameters: {'learning_rate': 0.032701036578593044, 'max_depth': 1, 'subsample': 0.9, 'colsample_bytree': 1.0, 'min_child_weight': 12, 'n_estimators': 1753}. Best is trial 27 with value: 0.8072793811973128.\n"
     ]
    },
    {
     "name": "stdout",
     "output_type": "stream",
     "text": [
      "Melhores hiperparâmetros encontrados: {'learning_rate': 0.032701036578593044, 'max_depth': 1, 'subsample': 0.9, 'colsample_bytree': 1.0, 'min_child_weight': 12, 'n_estimators': 1753}\n",
      "=-=-=-=-=-=-=- Folds: 1 =-=-=-=-=-=-=-\n",
      "=-=-=-=-=-=-=- Folds: 2 =-=-=-=-=-=-=-\n",
      "=-=-=-=-=-=-=- Folds: 3 =-=-=-=-=-=-=-\n",
      "=-=-=-=-=-=-=- Folds: 4 =-=-=-=-=-=-=-\n",
      "=-=-=-=-=-=-=- Folds: 5 =-=-=-=-=-=-=-\n"
     ]
    },
    {
     "name": "stderr",
     "output_type": "stream",
     "text": [
      "[I 2024-04-04 16:37:49,338] Trial 31 finished with value: 0.8044729747347656 and parameters: {'learning_rate': 0.03229759858377978, 'max_depth': 3, 'subsample': 0.6000000000000001, 'colsample_bytree': 0.9, 'min_child_weight': 11, 'n_estimators': 1595}. Best is trial 27 with value: 0.8072793811973128.\n"
     ]
    },
    {
     "name": "stdout",
     "output_type": "stream",
     "text": [
      "Melhores hiperparâmetros encontrados: {'learning_rate': 0.03229759858377978, 'max_depth': 3, 'subsample': 0.6000000000000001, 'colsample_bytree': 0.9, 'min_child_weight': 11, 'n_estimators': 1595}\n",
      "=-=-=-=-=-=-=- Folds: 1 =-=-=-=-=-=-=-\n",
      "=-=-=-=-=-=-=- Folds: 2 =-=-=-=-=-=-=-\n",
      "=-=-=-=-=-=-=- Folds: 3 =-=-=-=-=-=-=-\n",
      "=-=-=-=-=-=-=- Folds: 4 =-=-=-=-=-=-=-\n",
      "=-=-=-=-=-=-=- Folds: 5 =-=-=-=-=-=-=-\n"
     ]
    },
    {
     "name": "stderr",
     "output_type": "stream",
     "text": [
      "[I 2024-04-04 16:38:49,292] Trial 32 finished with value: 0.804272524744154 and parameters: {'learning_rate': 0.01180631144721104, 'max_depth': 2, 'subsample': 0.6000000000000001, 'colsample_bytree': 1.0, 'min_child_weight': 9, 'n_estimators': 1811}. Best is trial 27 with value: 0.8072793811973128.\n"
     ]
    },
    {
     "name": "stdout",
     "output_type": "stream",
     "text": [
      "Melhores hiperparâmetros encontrados: {'learning_rate': 0.01180631144721104, 'max_depth': 2, 'subsample': 0.6000000000000001, 'colsample_bytree': 1.0, 'min_child_weight': 9, 'n_estimators': 1811}\n",
      "=-=-=-=-=-=-=- Folds: 1 =-=-=-=-=-=-=-\n",
      "=-=-=-=-=-=-=- Folds: 2 =-=-=-=-=-=-=-\n",
      "=-=-=-=-=-=-=- Folds: 3 =-=-=-=-=-=-=-\n",
      "=-=-=-=-=-=-=- Folds: 4 =-=-=-=-=-=-=-\n",
      "=-=-=-=-=-=-=- Folds: 5 =-=-=-=-=-=-=-\n"
     ]
    },
    {
     "name": "stderr",
     "output_type": "stream",
     "text": [
      "[I 2024-04-04 16:39:59,190] Trial 33 finished with value: 0.7806477019566556 and parameters: {'learning_rate': 0.031171971907444165, 'max_depth': 6, 'subsample': 0.6000000000000001, 'colsample_bytree': 0.9, 'min_child_weight': 10, 'n_estimators': 1453}. Best is trial 27 with value: 0.8072793811973128.\n"
     ]
    },
    {
     "name": "stdout",
     "output_type": "stream",
     "text": [
      "Melhores hiperparâmetros encontrados: {'learning_rate': 0.031171971907444165, 'max_depth': 6, 'subsample': 0.6000000000000001, 'colsample_bytree': 0.9, 'min_child_weight': 10, 'n_estimators': 1453}\n",
      "=-=-=-=-=-=-=- Folds: 1 =-=-=-=-=-=-=-\n",
      "=-=-=-=-=-=-=- Folds: 2 =-=-=-=-=-=-=-\n",
      "=-=-=-=-=-=-=- Folds: 3 =-=-=-=-=-=-=-\n",
      "=-=-=-=-=-=-=- Folds: 4 =-=-=-=-=-=-=-\n",
      "=-=-=-=-=-=-=- Folds: 5 =-=-=-=-=-=-=-\n"
     ]
    },
    {
     "name": "stderr",
     "output_type": "stream",
     "text": [
      "[I 2024-04-04 16:40:30,625] Trial 34 finished with value: 0.8043585337915236 and parameters: {'learning_rate': 0.04709726295619134, 'max_depth': 2, 'subsample': 0.7000000000000001, 'colsample_bytree': 0.8, 'min_child_weight': 12, 'n_estimators': 1646}. Best is trial 27 with value: 0.8072793811973128.\n"
     ]
    },
    {
     "name": "stdout",
     "output_type": "stream",
     "text": [
      "Melhores hiperparâmetros encontrados: {'learning_rate': 0.04709726295619134, 'max_depth': 2, 'subsample': 0.7000000000000001, 'colsample_bytree': 0.8, 'min_child_weight': 12, 'n_estimators': 1646}\n",
      "=-=-=-=-=-=-=- Folds: 1 =-=-=-=-=-=-=-\n",
      "=-=-=-=-=-=-=- Folds: 2 =-=-=-=-=-=-=-\n",
      "=-=-=-=-=-=-=- Folds: 3 =-=-=-=-=-=-=-\n",
      "=-=-=-=-=-=-=- Folds: 4 =-=-=-=-=-=-=-\n",
      "=-=-=-=-=-=-=- Folds: 5 =-=-=-=-=-=-=-\n"
     ]
    },
    {
     "name": "stderr",
     "output_type": "stream",
     "text": [
      "[I 2024-04-04 16:41:09,619] Trial 35 finished with value: 0.8020103256774253 and parameters: {'learning_rate': 0.02393549021461859, 'max_depth': 4, 'subsample': 0.5, 'colsample_bytree': 1.0, 'min_child_weight': 14, 'n_estimators': 1462}. Best is trial 27 with value: 0.8072793811973128.\n"
     ]
    },
    {
     "name": "stdout",
     "output_type": "stream",
     "text": [
      "Melhores hiperparâmetros encontrados: {'learning_rate': 0.02393549021461859, 'max_depth': 4, 'subsample': 0.5, 'colsample_bytree': 1.0, 'min_child_weight': 14, 'n_estimators': 1462}\n",
      "=-=-=-=-=-=-=- Folds: 1 =-=-=-=-=-=-=-\n",
      "=-=-=-=-=-=-=- Folds: 2 =-=-=-=-=-=-=-\n",
      "=-=-=-=-=-=-=- Folds: 3 =-=-=-=-=-=-=-\n",
      "=-=-=-=-=-=-=- Folds: 4 =-=-=-=-=-=-=-\n",
      "=-=-=-=-=-=-=- Folds: 5 =-=-=-=-=-=-=-\n"
     ]
    },
    {
     "name": "stderr",
     "output_type": "stream",
     "text": [
      "[I 2024-04-04 16:42:34,075] Trial 36 finished with value: 0.7836545338112024 and parameters: {'learning_rate': 0.010379228271759631, 'max_depth': 7, 'subsample': 0.8, 'colsample_bytree': 0.9, 'min_child_weight': 9, 'n_estimators': 1996}. Best is trial 27 with value: 0.8072793811973128.\n"
     ]
    },
    {
     "name": "stdout",
     "output_type": "stream",
     "text": [
      "Melhores hiperparâmetros encontrados: {'learning_rate': 0.010379228271759631, 'max_depth': 7, 'subsample': 0.8, 'colsample_bytree': 0.9, 'min_child_weight': 9, 'n_estimators': 1996}\n",
      "=-=-=-=-=-=-=- Folds: 1 =-=-=-=-=-=-=-\n",
      "=-=-=-=-=-=-=- Folds: 2 =-=-=-=-=-=-=-\n",
      "=-=-=-=-=-=-=- Folds: 3 =-=-=-=-=-=-=-\n",
      "=-=-=-=-=-=-=- Folds: 4 =-=-=-=-=-=-=-\n",
      "=-=-=-=-=-=-=- Folds: 5 =-=-=-=-=-=-=-\n"
     ]
    },
    {
     "name": "stderr",
     "output_type": "stream",
     "text": [
      "[I 2024-04-04 16:43:02,413] Trial 37 finished with value: 0.7981730077789011 and parameters: {'learning_rate': 0.014952930984249416, 'max_depth': 1, 'subsample': 0.7000000000000001, 'colsample_bytree': 0.9, 'min_child_weight': 12, 'n_estimators': 1714}. Best is trial 27 with value: 0.8072793811973128.\n"
     ]
    },
    {
     "name": "stdout",
     "output_type": "stream",
     "text": [
      "Melhores hiperparâmetros encontrados: {'learning_rate': 0.014952930984249416, 'max_depth': 1, 'subsample': 0.7000000000000001, 'colsample_bytree': 0.9, 'min_child_weight': 12, 'n_estimators': 1714}\n",
      "=-=-=-=-=-=-=- Folds: 1 =-=-=-=-=-=-=-\n",
      "=-=-=-=-=-=-=- Folds: 2 =-=-=-=-=-=-=-\n",
      "=-=-=-=-=-=-=- Folds: 3 =-=-=-=-=-=-=-\n",
      "=-=-=-=-=-=-=- Folds: 4 =-=-=-=-=-=-=-\n",
      "=-=-=-=-=-=-=- Folds: 5 =-=-=-=-=-=-=-\n"
     ]
    },
    {
     "name": "stderr",
     "output_type": "stream",
     "text": [
      "[I 2024-04-04 16:44:16,104] Trial 38 finished with value: 0.7382376816300025 and parameters: {'learning_rate': 0.05244855795838246, 'max_depth': 7, 'subsample': 0.6000000000000001, 'colsample_bytree': 0.8, 'min_child_weight': 15, 'n_estimators': 1853}. Best is trial 27 with value: 0.8072793811973128.\n"
     ]
    },
    {
     "name": "stdout",
     "output_type": "stream",
     "text": [
      "Melhores hiperparâmetros encontrados: {'learning_rate': 0.05244855795838246, 'max_depth': 7, 'subsample': 0.6000000000000001, 'colsample_bytree': 0.8, 'min_child_weight': 15, 'n_estimators': 1853}\n",
      "=-=-=-=-=-=-=- Folds: 1 =-=-=-=-=-=-=-\n",
      "=-=-=-=-=-=-=- Folds: 2 =-=-=-=-=-=-=-\n",
      "=-=-=-=-=-=-=- Folds: 3 =-=-=-=-=-=-=-\n",
      "=-=-=-=-=-=-=- Folds: 4 =-=-=-=-=-=-=-\n",
      "=-=-=-=-=-=-=- Folds: 5 =-=-=-=-=-=-=-\n"
     ]
    },
    {
     "name": "stderr",
     "output_type": "stream",
     "text": [
      "[I 2024-04-04 16:44:48,829] Trial 39 finished with value: 0.7966264848337257 and parameters: {'learning_rate': 0.08634969553483672, 'max_depth': 3, 'subsample': 0.8, 'colsample_bytree': 0.5, 'min_child_weight': 10, 'n_estimators': 1551}. Best is trial 27 with value: 0.8072793811973128.\n"
     ]
    },
    {
     "name": "stdout",
     "output_type": "stream",
     "text": [
      "Melhores hiperparâmetros encontrados: {'learning_rate': 0.08634969553483672, 'max_depth': 3, 'subsample': 0.8, 'colsample_bytree': 0.5, 'min_child_weight': 10, 'n_estimators': 1551}\n",
      "=-=-=-=-=-=-=- Folds: 1 =-=-=-=-=-=-=-\n",
      "=-=-=-=-=-=-=- Folds: 2 =-=-=-=-=-=-=-\n",
      "=-=-=-=-=-=-=- Folds: 3 =-=-=-=-=-=-=-\n",
      "=-=-=-=-=-=-=- Folds: 4 =-=-=-=-=-=-=-\n",
      "=-=-=-=-=-=-=- Folds: 5 =-=-=-=-=-=-=-\n"
     ]
    },
    {
     "name": "stderr",
     "output_type": "stream",
     "text": [
      "[I 2024-04-04 16:46:13,398] Trial 40 finished with value: 0.671143040109677 and parameters: {'learning_rate': 0.0673661718021697, 'max_depth': 9, 'subsample': 0.5, 'colsample_bytree': 1.0, 'min_child_weight': 8, 'n_estimators': 1347}. Best is trial 27 with value: 0.8072793811973128.\n"
     ]
    },
    {
     "name": "stdout",
     "output_type": "stream",
     "text": [
      "Melhores hiperparâmetros encontrados: {'learning_rate': 0.0673661718021697, 'max_depth': 9, 'subsample': 0.5, 'colsample_bytree': 1.0, 'min_child_weight': 8, 'n_estimators': 1347}\n",
      "=-=-=-=-=-=-=- Folds: 1 =-=-=-=-=-=-=-\n",
      "=-=-=-=-=-=-=- Folds: 2 =-=-=-=-=-=-=-\n",
      "=-=-=-=-=-=-=- Folds: 3 =-=-=-=-=-=-=-\n",
      "=-=-=-=-=-=-=- Folds: 4 =-=-=-=-=-=-=-\n",
      "=-=-=-=-=-=-=- Folds: 5 =-=-=-=-=-=-=-\n"
     ]
    },
    {
     "name": "stderr",
     "output_type": "stream",
     "text": [
      "[I 2024-04-04 16:46:49,387] Trial 41 finished with value: 0.8039288821324702 and parameters: {'learning_rate': 0.0366053748259499, 'max_depth': 3, 'subsample': 0.6000000000000001, 'colsample_bytree': 0.9, 'min_child_weight': 11, 'n_estimators': 1584}. Best is trial 27 with value: 0.8072793811973128.\n"
     ]
    },
    {
     "name": "stdout",
     "output_type": "stream",
     "text": [
      "Melhores hiperparâmetros encontrados: {'learning_rate': 0.0366053748259499, 'max_depth': 3, 'subsample': 0.6000000000000001, 'colsample_bytree': 0.9, 'min_child_weight': 11, 'n_estimators': 1584}\n",
      "=-=-=-=-=-=-=- Folds: 1 =-=-=-=-=-=-=-\n",
      "=-=-=-=-=-=-=- Folds: 2 =-=-=-=-=-=-=-\n",
      "=-=-=-=-=-=-=- Folds: 3 =-=-=-=-=-=-=-\n",
      "=-=-=-=-=-=-=- Folds: 4 =-=-=-=-=-=-=-\n",
      "=-=-=-=-=-=-=- Folds: 5 =-=-=-=-=-=-=-\n"
     ]
    },
    {
     "name": "stderr",
     "output_type": "stream",
     "text": [
      "[I 2024-04-04 16:47:22,135] Trial 42 finished with value: 0.8001775773810842 and parameters: {'learning_rate': 0.008552502793558596, 'max_depth': 2, 'subsample': 0.6000000000000001, 'colsample_bytree': 0.8, 'min_child_weight': 11, 'n_estimators': 1617}. Best is trial 27 with value: 0.8072793811973128.\n"
     ]
    },
    {
     "name": "stdout",
     "output_type": "stream",
     "text": [
      "Melhores hiperparâmetros encontrados: {'learning_rate': 0.008552502793558596, 'max_depth': 2, 'subsample': 0.6000000000000001, 'colsample_bytree': 0.8, 'min_child_weight': 11, 'n_estimators': 1617}\n",
      "=-=-=-=-=-=-=- Folds: 1 =-=-=-=-=-=-=-\n",
      "=-=-=-=-=-=-=- Folds: 2 =-=-=-=-=-=-=-\n",
      "=-=-=-=-=-=-=- Folds: 3 =-=-=-=-=-=-=-\n",
      "=-=-=-=-=-=-=- Folds: 4 =-=-=-=-=-=-=-\n",
      "=-=-=-=-=-=-=- Folds: 5 =-=-=-=-=-=-=-\n"
     ]
    },
    {
     "name": "stderr",
     "output_type": "stream",
     "text": [
      "[I 2024-04-04 16:48:07,736] Trial 43 finished with value: 0.8008647478109285 and parameters: {'learning_rate': 0.02690821046472797, 'max_depth': 4, 'subsample': 0.4, 'colsample_bytree': 0.9, 'min_child_weight': 14, 'n_estimators': 1743}. Best is trial 27 with value: 0.8072793811973128.\n"
     ]
    },
    {
     "name": "stdout",
     "output_type": "stream",
     "text": [
      "Melhores hiperparâmetros encontrados: {'learning_rate': 0.02690821046472797, 'max_depth': 4, 'subsample': 0.4, 'colsample_bytree': 0.9, 'min_child_weight': 14, 'n_estimators': 1743}\n",
      "=-=-=-=-=-=-=- Folds: 1 =-=-=-=-=-=-=-\n",
      "=-=-=-=-=-=-=- Folds: 2 =-=-=-=-=-=-=-\n",
      "=-=-=-=-=-=-=- Folds: 3 =-=-=-=-=-=-=-\n",
      "=-=-=-=-=-=-=- Folds: 4 =-=-=-=-=-=-=-\n",
      "=-=-=-=-=-=-=- Folds: 5 =-=-=-=-=-=-=-\n"
     ]
    },
    {
     "name": "stderr",
     "output_type": "stream",
     "text": [
      "[I 2024-04-04 16:49:12,793] Trial 44 finished with value: 0.7651556108204375 and parameters: {'learning_rate': 0.041544719718468986, 'max_depth': 6, 'subsample': 0.7000000000000001, 'colsample_bytree': 0.9, 'min_child_weight': 9, 'n_estimators': 1845}. Best is trial 27 with value: 0.8072793811973128.\n"
     ]
    },
    {
     "name": "stdout",
     "output_type": "stream",
     "text": [
      "Melhores hiperparâmetros encontrados: {'learning_rate': 0.041544719718468986, 'max_depth': 6, 'subsample': 0.7000000000000001, 'colsample_bytree': 0.9, 'min_child_weight': 9, 'n_estimators': 1845}\n",
      "=-=-=-=-=-=-=- Folds: 1 =-=-=-=-=-=-=-\n",
      "=-=-=-=-=-=-=- Folds: 2 =-=-=-=-=-=-=-\n",
      "=-=-=-=-=-=-=- Folds: 3 =-=-=-=-=-=-=-\n",
      "=-=-=-=-=-=-=- Folds: 4 =-=-=-=-=-=-=-\n",
      "=-=-=-=-=-=-=- Folds: 5 =-=-=-=-=-=-=-\n"
     ]
    },
    {
     "name": "stderr",
     "output_type": "stream",
     "text": [
      "[I 2024-04-04 16:49:38,658] Trial 45 finished with value: 0.7924172564183929 and parameters: {'learning_rate': 0.017217740322974587, 'max_depth': 1, 'subsample': 0.5, 'colsample_bytree': 0.1, 'min_child_weight': 12, 'n_estimators': 1541}. Best is trial 27 with value: 0.8072793811973128.\n"
     ]
    },
    {
     "name": "stdout",
     "output_type": "stream",
     "text": [
      "Melhores hiperparâmetros encontrados: {'learning_rate': 0.017217740322974587, 'max_depth': 1, 'subsample': 0.5, 'colsample_bytree': 0.1, 'min_child_weight': 12, 'n_estimators': 1541}\n",
      "=-=-=-=-=-=-=- Folds: 1 =-=-=-=-=-=-=-\n",
      "=-=-=-=-=-=-=- Folds: 2 =-=-=-=-=-=-=-\n",
      "=-=-=-=-=-=-=- Folds: 3 =-=-=-=-=-=-=-\n",
      "=-=-=-=-=-=-=- Folds: 4 =-=-=-=-=-=-=-\n",
      "=-=-=-=-=-=-=- Folds: 5 =-=-=-=-=-=-=-\n"
     ]
    },
    {
     "name": "stderr",
     "output_type": "stream",
     "text": [
      "[I 2024-04-04 16:50:10,335] Trial 46 finished with value: 0.8034419895029522 and parameters: {'learning_rate': 0.060908005799396384, 'max_depth': 3, 'subsample': 0.4, 'colsample_bytree': 0.6000000000000001, 'min_child_weight': 11, 'n_estimators': 1387}. Best is trial 27 with value: 0.8072793811973128.\n"
     ]
    },
    {
     "name": "stdout",
     "output_type": "stream",
     "text": [
      "Melhores hiperparâmetros encontrados: {'learning_rate': 0.060908005799396384, 'max_depth': 3, 'subsample': 0.4, 'colsample_bytree': 0.6000000000000001, 'min_child_weight': 11, 'n_estimators': 1387}\n",
      "=-=-=-=-=-=-=- Folds: 1 =-=-=-=-=-=-=-\n",
      "=-=-=-=-=-=-=- Folds: 2 =-=-=-=-=-=-=-\n",
      "=-=-=-=-=-=-=- Folds: 3 =-=-=-=-=-=-=-\n",
      "=-=-=-=-=-=-=- Folds: 4 =-=-=-=-=-=-=-\n",
      "=-=-=-=-=-=-=- Folds: 5 =-=-=-=-=-=-=-\n"
     ]
    },
    {
     "name": "stderr",
     "output_type": "stream",
     "text": [
      "[I 2024-04-04 16:53:42,452] Trial 47 finished with value: 0.6638124896993312 and parameters: {'learning_rate': 0.019676647004019034, 'max_depth': 13, 'subsample': 0.6000000000000001, 'colsample_bytree': 1.0, 'min_child_weight': 8, 'n_estimators': 1908}. Best is trial 27 with value: 0.8072793811973128.\n"
     ]
    },
    {
     "name": "stdout",
     "output_type": "stream",
     "text": [
      "Melhores hiperparâmetros encontrados: {'learning_rate': 0.019676647004019034, 'max_depth': 13, 'subsample': 0.6000000000000001, 'colsample_bytree': 1.0, 'min_child_weight': 8, 'n_estimators': 1908}\n",
      "=-=-=-=-=-=-=- Folds: 1 =-=-=-=-=-=-=-\n",
      "=-=-=-=-=-=-=- Folds: 2 =-=-=-=-=-=-=-\n",
      "=-=-=-=-=-=-=- Folds: 3 =-=-=-=-=-=-=-\n",
      "=-=-=-=-=-=-=- Folds: 4 =-=-=-=-=-=-=-\n",
      "=-=-=-=-=-=-=- Folds: 5 =-=-=-=-=-=-=-\n"
     ]
    },
    {
     "name": "stderr",
     "output_type": "stream",
     "text": [
      "[I 2024-04-04 16:54:38,817] Trial 48 finished with value: 0.8003780560700765 and parameters: {'learning_rate': 0.010042560630877162, 'max_depth': 5, 'subsample': 0.7000000000000001, 'colsample_bytree': 0.8, 'min_child_weight': 14, 'n_estimators': 1779}. Best is trial 27 with value: 0.8072793811973128.\n"
     ]
    },
    {
     "name": "stdout",
     "output_type": "stream",
     "text": [
      "Melhores hiperparâmetros encontrados: {'learning_rate': 0.010042560630877162, 'max_depth': 5, 'subsample': 0.7000000000000001, 'colsample_bytree': 0.8, 'min_child_weight': 14, 'n_estimators': 1779}\n",
      "=-=-=-=-=-=-=- Folds: 1 =-=-=-=-=-=-=-\n",
      "=-=-=-=-=-=-=- Folds: 2 =-=-=-=-=-=-=-\n",
      "=-=-=-=-=-=-=- Folds: 3 =-=-=-=-=-=-=-\n",
      "=-=-=-=-=-=-=- Folds: 4 =-=-=-=-=-=-=-\n",
      "=-=-=-=-=-=-=- Folds: 5 =-=-=-=-=-=-=-\n"
     ]
    },
    {
     "name": "stderr",
     "output_type": "stream",
     "text": [
      "[I 2024-04-04 16:55:10,320] Trial 49 finished with value: 0.8054466165018969 and parameters: {'learning_rate': 0.027121902415317634, 'max_depth': 2, 'subsample': 0.8, 'colsample_bytree': 1.0, 'min_child_weight': 17, 'n_estimators': 1634}. Best is trial 27 with value: 0.8072793811973128.\n"
     ]
    },
    {
     "name": "stdout",
     "output_type": "stream",
     "text": [
      "Melhores hiperparâmetros encontrados: {'learning_rate': 0.027121902415317634, 'max_depth': 2, 'subsample': 0.8, 'colsample_bytree': 1.0, 'min_child_weight': 17, 'n_estimators': 1634}\n"
     ]
    }
   ],
   "source": [
    "def tunagem(trial, k=5, thershold=0.5):\n",
    "    # Tunagem dos hiperparâmetros\n",
    "    learning_rate = trial.suggest_float('learning_rate', 1e-3, 1e-1, log=True)\n",
    "    max_depth = trial.suggest_int('max_depth', 1, 20)\n",
    "    subsample = trial.suggest_float('subsample', 0, 1, step=0.1)\n",
    "    colsample_bytree = trial.suggest_float('colsample_bytree', 0, 1, step=0.1)\n",
    "    min_child_weight = trial.suggest_int('min_child_weight', 1, 20)\n",
    "    n_estimators = trial.suggest_int('n_estimators', 100, 2000)\n",
    "    folds = StratifiedKFold(n_splits=k, shuffle=True, random_state=42)\n",
    "\n",
    "    precisoes = list()\n",
    "    revocacos = list()\n",
    "    acuracia = list()\n",
    "    medida_f1 = list()\n",
    "    precision_recall_auc = list()\n",
    "    rocs_auc = list()\n",
    "\n",
    "    for fold, (train_index, test_index) in enumerate(folds.split(X, y)):\n",
    "        print('=-'*7 + f' Folds: {fold+1} ' + '=-'*7)\n",
    "\n",
    "        X_train_interno, y_train_interno = X.iloc[train_index, :], y.iloc[train_index]\n",
    "        X_test_interno, y_test_interno = X.iloc[test_index, :], y.iloc[test_index]\n",
    "\n",
    "        encoder = CatBoostEncoder()\n",
    "\n",
    "        cat_imputer = SimpleImputer(strategy='most_frequent')\n",
    "        num_imputer = SimpleImputer(strategy='median')\n",
    "\n",
    "        cat_pipeline = Pipeline([('encoder', encoder), ('imputer', cat_imputer)])\n",
    "        num_pipeline = Pipeline([('imputer', num_imputer)])\n",
    "\n",
    "        cat_cols = X_train_interno.select_dtypes(include=['object']).columns\n",
    "        num_cols = X_train_interno.select_dtypes(exclude=['object']).columns\n",
    "\n",
    "        X_train_interno[cat_cols] = cat_pipeline.fit_transform(X_train_interno[cat_cols], y_train_interno)\n",
    "        X_train_interno[num_cols] = num_pipeline.fit_transform(X_train_interno[num_cols])\n",
    "\n",
    "        X_test_interno[cat_cols] = cat_pipeline.transform(X_test_interno[cat_cols])\n",
    "        X_test_interno[num_cols] = num_pipeline.transform(X_test_interno[num_cols])\n",
    "\n",
    "        xgb = XGBClassifier(n_estimators=n_estimators, max_depth=max_depth, learning_rate=learning_rate, n_jobs=-1,\n",
    "                            random_state=0, scale_pos_weight=peso, eval_metrics=True,\n",
    "                            subsample=subsample, colsample_bytree=colsample_bytree, min_child_weight=min_child_weight\n",
    "                            )\n",
    "        xgb.fit(X_train_interno, y_train_interno)\n",
    "\n",
    "        y_pred_proba = xgb.predict_proba(X_test_interno)[:, 1]\n",
    "        y_pred = np.where(y_pred_proba > thershold, 1, 0)  # Corrigido aqui\n",
    "\n",
    "        precisao, revocacao, limiares = precision_recall_curve(y_test_interno, y_pred)\n",
    "\n",
    "        precisao_revocacao_auc = auc(revocacao, precisao)\n",
    "        roc_auc = roc_auc_score(y_test_interno, y_pred_proba)\n",
    "        acuracia_score = accuracy_score(y_test_interno, y_pred)\n",
    "        precisao_score = precision_score(y_test_interno, y_pred)\n",
    "        revocacao_score = recall_score(y_test_interno, y_pred)\n",
    "        f1score = f1_score(y_test_interno, y_pred)\n",
    "\n",
    "        precisoes.append(precisao_score)\n",
    "        revocacos.append(revocacao_score)  # Corrigido aqui\n",
    "        acuracia.append(acuracia_score)\n",
    "        precision_recall_auc.append(precisao_revocacao_auc)\n",
    "        medida_f1.append(f1score)\n",
    "        rocs_auc.append(roc_auc)\n",
    "\n",
    "    precisoes = np.array(precisoes)\n",
    "    revocacos = np.array(revocacos)\n",
    "    acuracia = np.array(acuracia)\n",
    "    medida_f1 = np.array(medida_f1)\n",
    "    precision_recall_auc = np.array(precision_recall_auc)\n",
    "    rocs_auc = np.array(rocs_auc)\n",
    "\n",
    "    media_previsoes = np.mean(precisoes)\n",
    "    media_revocacoes = np.mean(revocacos)\n",
    "    media_acuracia = np.mean(acuracia)\n",
    "    media_f1 = np.mean(precisao_revocacao_auc)\n",
    "    media_rocs_auc = np.mean(rocs_auc)\n",
    "    \n",
    "    # Salvando os melhores hiperparâmetros\n",
    "    best_params = trial.params\n",
    "    print(\"Melhores hiperparâmetros encontrados:\", best_params)\n",
    "    return media_revocacoes\n",
    "study = opt.create_study(direction='maximize')\n",
    "study.optimize(tunagem, n_trials=50)\n"
   ]
  },
  {
   "cell_type": "code",
   "execution_count": 28,
   "metadata": {},
   "outputs": [],
   "source": [
    "params = study.best_params\n",
    "\n"
   ]
  },
  {
   "cell_type": "code",
   "execution_count": null,
   "metadata": {},
   "outputs": [],
   "source": [
    "xgb = XGBClassifier(num_leaves=2^8, n_jobs = -1, random_state = 0, scale_pos_weight = peso, **params)"
   ]
  },
  {
   "cell_type": "code",
   "execution_count": 30,
   "metadata": {},
   "outputs": [
    {
     "name": "stdout",
     "output_type": "stream",
     "text": [
      "=-=-=-=-=-=-=-Fold: 1=-=-=-=-=-=-=-\n",
      "Precisão: 0.533\n",
      "Revocação: 0.790\n",
      "Acurácia: 0.809\n",
      "Medida F1: 0.636\n",
      "Precision_recall AUC: 0.683\n",
      "ROC AUC: 0.887\n",
      "=-=-=-=-=-=-=-Fold: 2=-=-=-=-=-=-=-\n",
      "Precisão: 0.540\n",
      "Revocação: 0.783\n",
      "Acurácia: 0.813\n",
      "Medida F1: 0.639\n",
      "Precision_recall AUC: 0.684\n",
      "ROC AUC: 0.886\n",
      "=-=-=-=-=-=-=-Fold: 3=-=-=-=-=-=-=-\n",
      "Precisão: 0.548\n",
      "Revocação: 0.784\n",
      "Acurácia: 0.818\n",
      "Medida F1: 0.645\n",
      "Precision_recall AUC: 0.689\n",
      "ROC AUC: 0.888\n",
      "=-=-=-=-=-=-=-Fold: 4=-=-=-=-=-=-=-\n",
      "Precisão: 0.547\n",
      "Revocação: 0.780\n",
      "Acurácia: 0.817\n",
      "Medida F1: 0.643\n",
      "Precision_recall AUC: 0.687\n",
      "ROC AUC: 0.888\n",
      "=-=-=-=-=-=-=-Fold: 5=-=-=-=-=-=-=-\n",
      "Precisão: 0.544\n",
      "Revocação: 0.785\n",
      "Acurácia: 0.815\n",
      "Medida F1: 0.643\n",
      "Precision_recall AUC: 0.687\n",
      "ROC AUC: 0.884\n",
      "\n",
      "=-=-=-=-=-=-Exibindo a média das métricas obtidas-=-=-=-=-=-=\n",
      "Média da precisão: 0.542 +/- 0.006\n",
      "Média da revocação: 0.784 +/- 0.003\n",
      "Média da acurácia: 0.814 +/- 0.003\n",
      "Média da Medida F1: 0.641 +/- 0.003\n",
      "Média da Precision/Recall AUC: 0.686 +/- 0.002\n",
      "Média da ROC AUC: 0.886 +/- 0.001\n"
     ]
    },
    {
     "data": {
      "image/png": "[encoded data removed]",
      "text/plain": [
       "<Figure size 800x600 with 2 Axes>"
      ]
     },
     "metadata": {},
     "output_type": "display_data"
    }
   ],
   "source": [
    "modelo = trainer(X, y, k=5, model=xgb)"
   ]
  },
  {
   "cell_type": "code",
   "execution_count": null,
   "metadata": {},
   "outputs": [
    {
     "ename": "NameError",
     "evalue": "name 'modelo' is not defined",
     "output_type": "error",
     "traceback": [
      "\u001b[0;31m---------------------------------------------------------------------------\u001b[0m",
      "\u001b[0;31mNameError\u001b[0m                                 Traceback (most recent call last)",
      "Cell \u001b[0;32mIn[11], line 1\u001b[0m\n\u001b[0;32m----> 1\u001b[0m joblib\u001b[38;5;241m.\u001b[39mdump(modelo, \u001b[38;5;124m'\u001b[39m\u001b[38;5;124mmodelo_treinado.joblib\u001b[39m\u001b[38;5;124m'\u001b[39m)\n",
      "\u001b[0;31mNameError\u001b[0m: name 'modelo' is not defined"
     ]
    }
   ],
   "source": [
    "joblib.dump(modelo, 'modelo_treinado.joblib')"
   ]
  }
 ],
 "metadata": {
  "kernelspec": {
   "display_name": "base",
   "language": "python",
   "name": "python3"
  },
  "language_info": {
   "codemirror_mode": {
    "name": "ipython",
    "version": 3
   },
   "file_extension": ".py",
   "mimetype": "text/x-python",
   "name": "python",
   "nbconvert_exporter": "python",
   "pygments_lexer": "ipython3",
   "version": "3.11.5"
  }
 },
 "nbformat": 4,
 "nbformat_minor": 2
}
